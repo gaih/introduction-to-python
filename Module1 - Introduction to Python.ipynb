{
 "cells": [
  {
   "cell_type": "markdown",
   "metadata": {
    "id": "v39xHSNK9bZu"
   },
   "source": [
    "# 1. Veri Tipleri"
   ]
  },
  {
   "cell_type": "markdown",
   "metadata": {
    "id": "rN2ZFfyu9bZx"
   },
   "source": [
    "Basitçe **Veri Tipleri**, Python'da değerleri temsil etmenin bir yoludur. Aşağıda listenene tipler Python'da en sık kullanılan veri tipleridir.\n",
    "\n",
    "- **int (sayıları temsil eder)**\n",
    "- **float (ondalıklı sayıları temsil eder)**\n",
    "- **str (yazıları temsil eder)**\n",
    "- **bool (bool değerleri temsil eder)**\n",
    "- **list**\n",
    "- **dict**\n",
    "- tuple\n",
    "- set\n",
    "- complex (not used very often)\n",
    "- None (to represent an absence of value)"
   ]
  },
  {
   "cell_type": "markdown",
   "metadata": {
    "id": "fQnP14ir9bZy"
   },
   "source": [
    "## 1.1 Sayılar (Numbers)"
   ]
  },
  {
   "cell_type": "markdown",
   "metadata": {
    "id": "nJF_q9m99bZy"
   },
   "source": [
    "Sayısal **3** veri tipi mevcuttur:\n",
    "\n",
    "- int (tam sayıları sınırsız boyutta depolar)\n",
    "- float (kayan noktalı gerçek sayı değerlerini depolar)\n",
    "- complex (kompleks sayıları depolar)"
   ]
  },
  {
   "cell_type": "code",
   "execution_count": null,
   "metadata": {
    "id": "0VGXGIsv9bZy"
   },
   "outputs": [],
   "source": [
    "num = 100 # değişken tanımlamak\n",
    "print(type(num)) # <class 'int'>\n",
    "\n",
    "num2 = 99.99\n",
    "print(type(num2)) # <class 'float>\n",
    "\n",
    "expression1 = num * 10\n",
    "print(type(expression1)) # <class 'int'>\n",
    "\n",
    "expression2 = num + num2\n",
    "print(type(expression2)) # <class 'float'>"
   ]
  },
  {
   "cell_type": "markdown",
   "metadata": {
    "id": "5Nh5tyvn9bZz"
   },
   "source": [
    "### Matematiksel Fonksiyonlar\n",
    "\n",
    "Ilerleyen bolumlerde fonksiyonlar daha detayli anlatilacak fakat fonkisyonlari kullanmak oldukca basit!"
   ]
  },
  {
   "cell_type": "code",
   "execution_count": null,
   "metadata": {
    "id": "x_Rws9AV9bZ0"
   },
   "outputs": [],
   "source": [
    "print(round(2.1)) # 2\n",
    "print(round(5.9)) # 6\n",
    "print(abs(-34)) # 34"
   ]
  },
  {
   "cell_type": "markdown",
   "metadata": {
    "id": "zj-hfpAb_j__"
   },
   "source": [
    "### Matematiksel Operatorler\n",
    "Pythonda integer degerler operatorler ile birlikte herhangi bir hesap makinesi gibi islem gorebilir"
   ]
  },
  {
   "cell_type": "code",
   "execution_count": null,
   "metadata": {
    "colab": {
     "base_uri": "https://localhost:8080/"
    },
    "executionInfo": {
     "elapsed": 279,
     "status": "ok",
     "timestamp": 1624017731491,
     "user": {
      "displayName": "Mert Çobanov",
      "photoUrl": "",
      "userId": "01762005122749554747"
     },
     "user_tz": -180
    },
    "id": "dQS7CgW4_uGe",
    "outputId": "dd715ae1-3950-4145-d533-feb49422d7fd"
   },
   "outputs": [
    {
     "name": "stdout",
     "output_type": "stream",
     "text": [
      "12\n",
      "8\n",
      "20\n",
      "5.0\n",
      "100\n",
      "5\n",
      "0\n"
     ]
    }
   ],
   "source": [
    "x = 10\n",
    "\n",
    "print(x+2) # Toplama\n",
    "print(x-2) # Cikarma\n",
    "print(x*2) # Carpma\n",
    "print(x/2) # Bolme\n",
    "\n",
    "print(x**2) # Ustel \n",
    "print(x//2) # Bolum\n",
    "print(x%2) # Kalan"
   ]
  },
  {
   "cell_type": "markdown",
   "metadata": {
    "id": "aoq3caaE9bZ0"
   },
   "source": [
    "## 1.2 Değişkenler (Variables)"
   ]
  },
  {
   "cell_type": "markdown",
   "metadata": {
    "id": "Wtw_GcGY9bZ0"
   },
   "source": [
    "Değişkenler değerleri depolar. Aşağıdakiler, Python'da adlandırma kurallarıdır:\n",
    "\n",
    "- Değişkenler bir harfle (tercihen küçük harfle) veya alt çizgiyle başlamalı ve ardından sayılar veya alt çizgi gelmelidir\n",
    "- Snake case, user_name gibi birden çok kelimeyle değişken yazmanın geleneksel yoludur.\n",
    "- Büyük / küçük harfe duyarlıdırlar\n",
    "- Anahtar kelimeler, anahtar kelimelerin (Python anahtar kelimeleri) üzerine yazılmamalıdır"
   ]
  },
  {
   "cell_type": "markdown",
   "metadata": {
    "id": "yys74j7s9bZ1"
   },
   "source": [
    "## 1.3 Stringler (Strings)"
   ]
  },
  {
   "cell_type": "code",
   "execution_count": null,
   "metadata": {
    "id": "MPOE8ktZ9bZ1"
   },
   "outputs": [],
   "source": [
    "name = 'Python' # tek tırnak ile tanımlamak\n",
    "name2 = \"Python\" # çift tırnak ile tanımlamak\n",
    "name3 = '''Bu oldukça uzun bir stringdir.\n",
    "            Bu şekilde birkaç satırda yazabiliriz''' # 3 tırnak işareti ile tanımlamak\n",
    "\n",
    "print(type(name)) # <class 'str'>\n",
    "print(type(name2)) # <class 'str'>\n",
    "print(type(name3)) # <class 'str'>\n"
   ]
  },
  {
   "cell_type": "markdown",
   "metadata": {
    "id": "40JFnBWA9bZ1"
   },
   "source": [
    "### String Birleştirme (String Concatenation)"
   ]
  },
  {
   "cell_type": "code",
   "execution_count": null,
   "metadata": {
    "id": "placDrPV9bZ2"
   },
   "outputs": [],
   "source": [
    "first_name = 'Mert'\n",
    "last_name = 'Cobanov'\n",
    "print(first_name + ' ' + last_name) # Mert Cobanov"
   ]
  },
  {
   "cell_type": "markdown",
   "metadata": {
    "id": "6FsypqI09bZ2"
   },
   "source": [
    "### Veri Tipi Dönüşümleri (Type Conversion)"
   ]
  },
  {
   "cell_type": "code",
   "execution_count": null,
   "metadata": {
    "id": "-I2aVf529bZ2"
   },
   "outputs": [],
   "source": [
    "user_name = 'Mert'\n",
    "age = 25\n",
    "print(user_name + age)"
   ]
  },
  {
   "cell_type": "code",
   "execution_count": null,
   "metadata": {
    "id": "_R5HMewG9bZ2"
   },
   "outputs": [],
   "source": [
    "user_name = 'Mert'\n",
    "age = 25\n",
    "print(user_name + str(age)) # Mert40\n",
    "print(type(str(age))) # <class 'str'>"
   ]
  },
  {
   "cell_type": "code",
   "execution_count": null,
   "metadata": {
    "id": "jLBxrbDL9bZ2"
   },
   "outputs": [],
   "source": [
    "lucky_number = 7\n",
    "lucky_number_stringified = str(7)\n",
    "lucky_number_extracted = int(lucky_number_stringified)\n",
    "print(lucky_number_extracted) # 7"
   ]
  },
  {
   "cell_type": "markdown",
   "metadata": {
    "id": "BQfrwyvq9bZ3"
   },
   "source": [
    "### String Biçimlendirme (Formatted String)\n",
    "\n",
    "String biçimlendirme, string içeriğini dinamik olarak güncellememize izin veren bir özelliktir. Bir sunucudan alınan kullanıcı bilgilerimiz olduğunu ve buna dayalı olarak özel bir mesaj görüntülemek istediğimizi varsayalım. İlk fikir, string biçimlendirme uygulamaktır."
   ]
  },
  {
   "cell_type": "code",
   "execution_count": null,
   "metadata": {
    "colab": {
     "base_uri": "https://localhost:8080/"
    },
    "executionInfo": {
     "elapsed": 12,
     "status": "ok",
     "timestamp": 1624017106046,
     "user": {
      "displayName": "Mert Çobanov",
      "photoUrl": "",
      "userId": "01762005122749554747"
     },
     "user_tz": -180
    },
    "id": "plgL_7b39bZ3",
    "outputId": "48a3d872-4693-4d89-9c52-83e850fd3e68"
   },
   "outputs": [
    {
     "name": "stdout",
     "output_type": "stream",
     "text": [
      "Hoşgeldin Mert Cobanov\n"
     ]
    }
   ],
   "source": [
    "first_name = 'Mert'\n",
    "last_name = 'Cobanov'\n",
    "welcome_message = \"Hoşgeldin\" + \" \" + first_name + \" \" + last_name\n",
    "\n",
    "print(welcome_message) # Welcome Mert Cobanov"
   ]
  },
  {
   "cell_type": "code",
   "execution_count": null,
   "metadata": {
    "colab": {
     "base_uri": "https://localhost:8080/"
    },
    "executionInfo": {
     "elapsed": 8,
     "status": "ok",
     "timestamp": 1624017106048,
     "user": {
      "displayName": "Mert Çobanov",
      "photoUrl": "",
      "userId": "01762005122749554747"
     },
     "user_tz": -180
    },
    "id": "UV2ec1Ax9bZ3",
    "outputId": "dd0d603e-cfc7-4880-b9be-72ce7b5a5037"
   },
   "outputs": [
    {
     "name": "stdout",
     "output_type": "stream",
     "text": [
      "Hoşgeldin Mert Cobanov\n"
     ]
    }
   ],
   "source": [
    "first_name = 'Mert'\n",
    "last_name = 'Cobanov'\n",
    "welcome_message = f'Hoşgeldin {first_name} {last_name}'\n",
    "print(welcome_message) # Hoşgeldin Mert Cobanov"
   ]
  },
  {
   "cell_type": "markdown",
   "metadata": {
    "id": "d5_gZQX79bZ3"
   },
   "source": [
    "### String Indeksleri (String Indexes)\n",
    "\n",
    "Python'daki dizeler basitçe sıralı karakter koleksiyonudur. Böylece onunla birçok harika numara yapabiliriz. Bir dizenin karakterlerine erişebilir, bir alt dizeyi seçebilir, bir dizeyi tersine çevirebilir ve çok daha fazlasını yapabiliriz. Aynı zamanda sicim dilimleme olarak da adlandırılır."
   ]
  },
  {
   "cell_type": "code",
   "execution_count": null,
   "metadata": {
    "id": "idzZqBUa9bZ4"
   },
   "outputs": [],
   "source": [
    "language = 'python'\n",
    "first_character = language[0] # indexing starts from 0\n",
    "second_character = language[1]\n",
    "print(first_character) # p\n",
    "print(second_character) # y"
   ]
  },
  {
   "cell_type": "code",
   "execution_count": null,
   "metadata": {
    "id": "0F7as7fF9bZ4"
   },
   "outputs": [],
   "source": [
    "# Strings can be manipulated easily with this syntax [start:stop:step-over]\n",
    "\n",
    "range_1 = language[0:2] # here it starts from index 0 and ends at index 1\n",
    "range_2 = language[0::1] # starts at 0, stops at end with step over 1 \n",
    "range_3 = language[::2] # starts at 0, till end with step 2\n",
    "range_4 = language[1:] # starts at index 1 till end of string\n",
    "range_5 = language[-1] # selects last character\n",
    "range_6 = language[-2] # second last character\n",
    "reverse_string = language[::-1] # starts from end and reverses the string\n",
    "reverse_string_2 = language[::-2] # reverses string and skips 1 character\n",
    "\n",
    "print(range_1) # py\n",
    "print(range_2) # python\n",
    "print(range_3) # pto\n",
    "print(range_4) # ython\n",
    "print(range_5) # n\n",
    "print(range_6) # o\n",
    "print(reverse_string) # nohtyp\n",
    "print(reverse_string_2) # nhy"
   ]
  },
  {
   "cell_type": "markdown",
   "metadata": {
    "id": "Rg3wjuUC9baA"
   },
   "source": [
    "## 1.4 Mantiksal  Operatorler ve Boolean\n",
    "\n",
    "Booleanlar python'da bool olarak temsil edilir ve True veya False depolar."
   ]
  },
  {
   "cell_type": "code",
   "execution_count": null,
   "metadata": {
    "id": "TI6EaOu09baA",
    "scrolled": true
   },
   "outputs": [],
   "source": [
    "iyi_mi = True\n",
    "kirli_mi = False"
   ]
  },
  {
   "cell_type": "code",
   "execution_count": null,
   "metadata": {
    "id": "XxJaXA1v9baA",
    "outputId": "6f416b58-f4e9-49bc-8640-5c1d88d61653"
   },
   "outputs": [
    {
     "name": "stdout",
     "output_type": "stream",
     "text": [
      "True\n"
     ]
    }
   ],
   "source": [
    "print(10 > 9) # True "
   ]
  },
  {
   "cell_type": "markdown",
   "metadata": {
    "id": "x9gOH1WdA6yN"
   },
   "source": [
    "![image.png](data:image/png;base64,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)"
   ]
  },
  {
   "cell_type": "code",
   "execution_count": null,
   "metadata": {
    "colab": {
     "base_uri": "https://localhost:8080/"
    },
    "executionInfo": {
     "elapsed": 274,
     "status": "ok",
     "timestamp": 1624018064580,
     "user": {
      "displayName": "Mert Çobanov",
      "photoUrl": "",
      "userId": "01762005122749554747"
     },
     "user_tz": -180
    },
    "id": "LnRCz23QBJJj",
    "outputId": "6ad53313-f862-4b22-b113-12b4ac550cfb"
   },
   "outputs": [
    {
     "name": "stdout",
     "output_type": "stream",
     "text": [
      "True\n",
      "False\n",
      "False\n"
     ]
    }
   ],
   "source": [
    "print(True or False)\n",
    "print(True and False)\n",
    "print(not True)"
   ]
  },
  {
   "cell_type": "code",
   "execution_count": null,
   "metadata": {
    "colab": {
     "base_uri": "https://localhost:8080/"
    },
    "executionInfo": {
     "elapsed": 477,
     "status": "ok",
     "timestamp": 1624018099814,
     "user": {
      "displayName": "Mert Çobanov",
      "photoUrl": "",
      "userId": "01762005122749554747"
     },
     "user_tz": -180
    },
    "id": "9KVxD0QgBUI4",
    "outputId": "78139c3e-6d45-426c-c04a-2d6f878a1298"
   },
   "outputs": [
    {
     "name": "stdout",
     "output_type": "stream",
     "text": [
      "False\n"
     ]
    }
   ],
   "source": [
    "isim = 'Mert'\n",
    "soyad = 'Cobanoglu'\n",
    "print(isim == soyad)"
   ]
  },
  {
   "cell_type": "markdown",
   "metadata": {
    "id": "_4Y924uu9bZ4"
   },
   "source": [
    "## 1.5 Listeler (Lists)\n",
    "\n",
    "Listeler önemli bir veri türüdür. Organize bir nesne koleksiyonudur. Aynı zamanda, verileri farklı amaçlar için belirli bir biçimde düzenleyen bir kap anlamına gelen bir veri yapısıdır. `[]` İle gösterilirler. Aynı veya farklı veri türlerini birlikte depolamak için kullanılabilirler."
   ]
  },
  {
   "cell_type": "code",
   "execution_count": null,
   "metadata": {
    "id": "2y619V4K9bZ4",
    "outputId": "ac710ff6-1eae-4c42-f66d-317320f874e9"
   },
   "outputs": [
    {
     "name": "stdout",
     "output_type": "stream",
     "text": [
      "kalem\n"
     ]
    }
   ],
   "source": [
    "favorite_languages = ['javascript', 'python', 'typescript']\n",
    "shopping_cart_items = ['kalem','diş fırçası', 'kolonya', 'silgi']\n",
    "random_things = ['futbol', 123, True, 'yazılımcı', 777]\n",
    "\n",
    "first_item = shopping_cart_items[0]\n",
    "print(first_item) # 'kalem'"
   ]
  },
  {
   "cell_type": "markdown",
   "metadata": {
    "id": "RSNx7WZz9bZ6"
   },
   "source": [
    "### Listelerin Dilimlenmesi (List Slicing)\n",
    "\n",
    "Stringlere benzer şekilde, listeler de dilimlenebilir. Bununla birlikte, stringlerden farklı olarak listeler değiştirilebilir, bu da verilerinin değiştirilebileceği anlamına gelir."
   ]
  },
  {
   "cell_type": "code",
   "execution_count": null,
   "metadata": {
    "id": "F6eVxUOU9bZ6",
    "outputId": "40c3eb56-00d1-4e49-df7d-471b2cae6a4a",
    "scrolled": true
   },
   "outputs": [
    {
     "name": "stdout",
     "output_type": "stream",
     "text": [
      "['suarez', 'messi', 'ibrahimovic', 'zidane', 'beckham']\n"
     ]
    }
   ],
   "source": [
    "soccer_stars = ['ronaldo', 'messi','ibrahimovic','zidane','beckham']\n",
    "soccer_stars[0] = 'suarez'\n",
    "print(soccer_stars) # ['suarez', 'messi','ibrahimovic','zidane','beckham']"
   ]
  },
  {
   "cell_type": "code",
   "execution_count": null,
   "metadata": {
    "id": "mZE0HWka9bZ6",
    "outputId": "a4ad83ea-2e88-48cb-bb0a-77e02c9a52a3"
   },
   "outputs": [
    {
     "name": "stdout",
     "output_type": "stream",
     "text": [
      "['suarez', 'messi', 'ibrahimovic']\n",
      "['suarez', 'messi', 'ibrahimovic', 'zidane', 'beckham']\n"
     ]
    }
   ],
   "source": [
    "range = soccer_stars[0:3]\n",
    "print(range) # ['suarez', 'messi', 'ibrahimovic']\n",
    "print(soccer_stars) # ['suarez', 'messi','ibrahimovic','zidane','beckham']"
   ]
  },
  {
   "cell_type": "code",
   "execution_count": null,
   "metadata": {
    "id": "0XV3CN2n9bZ6",
    "outputId": "b416463c-969a-4b99-cd24-bc307b2a966b"
   },
   "outputs": [
    {
     "name": "stdout",
     "output_type": "stream",
     "text": [
      "['suarez', 'messi', 'ibrahimovic', 'zidane', 'beckham']\n"
     ]
    }
   ],
   "source": [
    "clone = soccer_stars[:] # listeyi kopyalar.\n",
    "print(clone) # ['suarez', 'messi','ibrahimovic','zidane','beckham']"
   ]
  },
  {
   "cell_type": "code",
   "execution_count": null,
   "metadata": {
    "id": "-MaCifvG9bZ7",
    "outputId": "8ca096c4-939e-464d-dcc9-d9843dfa0995"
   },
   "outputs": [
    {
     "name": "stdout",
     "output_type": "stream",
     "text": [
      "['beckham', 'zidane', 'ibrahimovic', 'messi', 'suarez']\n"
     ]
    }
   ],
   "source": [
    "reverse_order = soccer_stars[::-1] # listenin sırasını tersine çevirir\n",
    "print(reverse_order) # ['beckham', 'zidane', 'ibrahimovic', 'messi', 'suarez']"
   ]
  },
  {
   "cell_type": "markdown",
   "metadata": {
    "id": "5ib68fhT9bZ7"
   },
   "source": [
    "### Listelere eleman eklenmesi (append, insert, extend)"
   ]
  },
  {
   "cell_type": "code",
   "execution_count": null,
   "metadata": {
    "id": "KNgxR3JA9bZ7",
    "outputId": "4e70cc1a-2c0a-4d24-d0b9-4beb0d813ac5",
    "scrolled": true
   },
   "outputs": [
    {
     "name": "stdout",
     "output_type": "stream",
     "text": [
      "[44, 48, 55, 89, 34, 100]\n"
     ]
    }
   ],
   "source": [
    "# Append\n",
    "\n",
    "scores = [44,48,55,89,34]\n",
    "scores.append(100) # elemanları listenin sonuna ekler\n",
    "print(scores) # [44, 48, 55, 89, 34, 100]"
   ]
  },
  {
   "cell_type": "code",
   "execution_count": null,
   "metadata": {
    "id": "eGHwU4lV9bZ7",
    "outputId": "cdf7788e-832d-4b04-e402-eaf1c248da9c"
   },
   "outputs": [
    {
     "name": "stdout",
     "output_type": "stream",
     "text": [
      "[34, 44, 44, 48, 55, 89, 34, 100]\n"
     ]
    }
   ],
   "source": [
    "# Insert\n",
    "\n",
    "scores.insert(0, 34) # Inserts 34 to index 0\n",
    "scores.insert(2, 44) # Inserts 44 to index 2\n",
    "print(scores) # [34, 44, 44, 48, 55, 89, 34, 100]"
   ]
  },
  {
   "cell_type": "code",
   "execution_count": null,
   "metadata": {
    "id": "eLgPU1ot9bZ7",
    "outputId": "03a981db-6061-4304-a87b-9ea561b39c39"
   },
   "outputs": [
    {
     "name": "stdout",
     "output_type": "stream",
     "text": [
      "[34, 44, 44, 48, 55, 89, 34, 100, 23, 23, 23]\n"
     ]
    }
   ],
   "source": [
    "# Extend\n",
    "\n",
    "scores.extend([23]) # Başka bir listeyi listenin sonuna ekler\n",
    "print(scores) # [34, 44, 44, 48, 55, 89, 34, 100, 23]"
   ]
  },
  {
   "cell_type": "code",
   "execution_count": null,
   "metadata": {
    "id": "BncnxWP89bZ8",
    "outputId": "6797efad-3c68-4fb2-c695-2b478909fd6d"
   },
   "outputs": [
    {
     "name": "stdout",
     "output_type": "stream",
     "text": [
      "[34, 44, 44, 48, 55, 89, 34, 100, 23, 23, 23, 12, 10]\n"
     ]
    }
   ],
   "source": [
    "scores.extend([12,10])\n",
    "print(scores) # [34, 44, 44, 48, 55, 89, 34, 100, 23, 12, 10]"
   ]
  },
  {
   "cell_type": "markdown",
   "metadata": {
    "id": "gIPESbeS9bZ8"
   },
   "source": [
    "### Listelerden eleman çıkartılması (pop, remove, clear)"
   ]
  },
  {
   "cell_type": "code",
   "execution_count": null,
   "metadata": {
    "id": "UNDu8DKk9bZ8",
    "outputId": "c7a9c29e-de83-4729-a4be-9d1453e9d8b9"
   },
   "outputs": [
    {
     "name": "stdout",
     "output_type": "stream",
     "text": [
      "['C', 'C#']\n"
     ]
    }
   ],
   "source": [
    "# Pop\n",
    "\n",
    "languages = ['C', 'C#', 'C++']\n",
    "languages.pop()\n",
    "print(languages) # ['C', 'C#']"
   ]
  },
  {
   "cell_type": "code",
   "execution_count": null,
   "metadata": {
    "id": "dQempjos9bZ8",
    "outputId": "c8829e49-6a64-413c-e062-c9ccc980cc3f"
   },
   "outputs": [
    {
     "name": "stdout",
     "output_type": "stream",
     "text": [
      "['C#']\n"
     ]
    }
   ],
   "source": [
    "# Remove\n",
    "\n",
    "languages.remove('C')\n",
    "print(languages) # ['C#']"
   ]
  },
  {
   "cell_type": "code",
   "execution_count": null,
   "metadata": {
    "id": "DU2czytW9bZ9",
    "outputId": "0a6d456c-99e3-4852-cc42-89eab600a841"
   },
   "outputs": [
    {
     "name": "stdout",
     "output_type": "stream",
     "text": [
      "[]\n"
     ]
    }
   ],
   "source": [
    "# Clear\n",
    "\n",
    "languages.clear()\n",
    "print(languages) # []"
   ]
  },
  {
   "cell_type": "markdown",
   "metadata": {
    "id": "I_TJQBoD9bZ9"
   },
   "source": [
    "### İndeksleri almak ve sayma (index, count)"
   ]
  },
  {
   "cell_type": "code",
   "execution_count": null,
   "metadata": {
    "id": "cyZVX03C9bZ9",
    "scrolled": true
   },
   "outputs": [],
   "source": [
    "alphabets = ['a', 'b', 'c']"
   ]
  },
  {
   "cell_type": "code",
   "execution_count": null,
   "metadata": {
    "id": "Ec4B2TBO9bZ9",
    "outputId": "678acc98-e45f-491a-c21d-0552a973a179"
   },
   "outputs": [
    {
     "name": "stdout",
     "output_type": "stream",
     "text": [
      "0\n"
     ]
    }
   ],
   "source": [
    "print(alphabets.index('a')) # 0 (Aranan değerin liste içerisindeki indeksini getirir)"
   ]
  },
  {
   "cell_type": "code",
   "execution_count": null,
   "metadata": {
    "id": "p1WcXNjn9bZ9",
    "outputId": "adb2bb40-f7cb-4559-89ac-d7fe66b60baf"
   },
   "outputs": [
    {
     "name": "stdout",
     "output_type": "stream",
     "text": [
      "1\n"
     ]
    }
   ],
   "source": [
    "print(alphabets.count('b')) # 1 (Aranan değerin liste içerisinde kaç kez geçtiğini getirir)"
   ]
  },
  {
   "cell_type": "markdown",
   "metadata": {
    "id": "sCA9-e6k9bZ9"
   },
   "source": [
    "### Sıralama, Tersleme ve Kopyalama (Sorting, reversing and copying)\n"
   ]
  },
  {
   "cell_type": "code",
   "execution_count": null,
   "metadata": {
    "id": "FHoyO2Zt9bZ-",
    "outputId": "7807b7e8-6e92-4956-deae-06b5eab8e41f",
    "scrolled": true
   },
   "outputs": [
    {
     "name": "stdout",
     "output_type": "stream",
     "text": [
      "[1, 2, 3, 4, 5, 6]\n"
     ]
    }
   ],
   "source": [
    "# Sort\n",
    "\n",
    "numbers = [1,4,6,3,2,5]\n",
    "numbers.sort() # Sorts the list items in place and returns nothing\n",
    "print(numbers) # [1, 2, 3, 4, 5, 6]"
   ]
  },
  {
   "cell_type": "code",
   "execution_count": null,
   "metadata": {
    "id": "VKF0jYf_9bZ-",
    "outputId": "2c1cbcfd-3b04-49d0-ad94-f8b73253d773"
   },
   "outputs": [
    {
     "name": "stdout",
     "output_type": "stream",
     "text": [
      "[1, 2, 3, 4, 5, 6]\n"
     ]
    }
   ],
   "source": [
    "# Sorted\n",
    "# Yeni bir liste olarak alabilirsiniz\n",
    "\n",
    "sorted_numbers = sorted(numbers) # note - this is not a method\n",
    "print(sorted_numbers) # [1, 2, 3, 4, 5, 6]"
   ]
  },
  {
   "cell_type": "code",
   "execution_count": null,
   "metadata": {
    "id": "xpJhQlJG9bZ-",
    "outputId": "507b048a-dfa8-478e-c1a7-25434809feb3"
   },
   "outputs": [
    {
     "name": "stdout",
     "output_type": "stream",
     "text": [
      "[6, 5, 4, 3, 2, 1]\n"
     ]
    }
   ],
   "source": [
    "# Reverse\n",
    "\n",
    "numbers.reverse() # Listeyi tersine çevirir\n",
    "print(numbers) # [6, 5, 4, 3, 2, 1]"
   ]
  },
  {
   "cell_type": "code",
   "execution_count": null,
   "metadata": {
    "id": "lCodpDFa9bZ-",
    "outputId": "ef5ffa08-2634-4ff2-ca8c-ff4f689e9ae0"
   },
   "outputs": [
    {
     "name": "stdout",
     "output_type": "stream",
     "text": [
      "[6, 5, 4, 3, 2, 1]\n"
     ]
    }
   ],
   "source": [
    "# Copy\n",
    "\n",
    "numbers_clone = numbers.copy() # numbers[:] ile aynı şekilde kopyalar\n",
    "print(numbers_clone) # [6, 5, 4, 3, 2, 1]"
   ]
  },
  {
   "cell_type": "markdown",
   "metadata": {
    "id": "75ErMAKp9bZ_"
   },
   "source": [
    "## 1.5 Sözlükler (Dictionaries)"
   ]
  },
  {
   "cell_type": "code",
   "execution_count": null,
   "metadata": {
    "id": "5CooteP39bZ_",
    "scrolled": true
   },
   "outputs": [],
   "source": [
    "user = {'name': 'Mert', 'age': 25, 'married': False}"
   ]
  },
  {
   "cell_type": "code",
   "execution_count": null,
   "metadata": {
    "id": "QU5Km4GE9bZ_",
    "outputId": "4110d1ff-a48d-413c-d524-05525f80c653"
   },
   "outputs": [
    {
     "name": "stdout",
     "output_type": "stream",
     "text": [
      "Mert\n",
      "False\n"
     ]
    }
   ],
   "source": [
    "print(user['name']) # Mert\n",
    "print(user['married']) # False"
   ]
  },
  {
   "cell_type": "markdown",
   "metadata": {
    "id": "GtafY51E9bZ_"
   },
   "source": [
    "### Sözlük Anahtarları (Dictionary Keys)\n",
    "\n",
    "Bir sözlükteki anahtarların dize veri türünde olması gerektiğinden bahsetmiştim. Bu tamamen doğru değil. dikt anahtarları herhangi bir değişmez veri türünde olabilir. Ayrıca, anahtarların benzersiz olması gerekir. Bir sözlüğün birden fazla özdeş anahtarı varsa, değerler geçersiz kılınır. Bu aynı zamanda çarpışma olarak da adlandırılır."
   ]
  },
  {
   "cell_type": "code",
   "execution_count": null,
   "metadata": {
    "id": "bAuHylC59bZ_"
   },
   "outputs": [],
   "source": [
    "abstract = {\n",
    " 'first': 123,\n",
    " True: 'hello',\n",
    " 777: [1,3,4,5]\n",
    "}"
   ]
  },
  {
   "cell_type": "code",
   "execution_count": null,
   "metadata": {
    "id": "P74sMPVw9bZ_"
   },
   "outputs": [],
   "source": [
    "print(abstract['first']) # 123\n",
    "print(abstract[True]) # 'hello\n",
    "print(abstract[777]) # [1,3,4,5]"
   ]
  },
  {
   "cell_type": "code",
   "execution_count": null,
   "metadata": {
    "id": "wGAhOUYU9bZ_"
   },
   "outputs": [],
   "source": [
    "sample = {\n",
    "    'username': 'Ahmet',\n",
    "    'username': 'Mert'\n",
    "}"
   ]
  },
  {
   "cell_type": "code",
   "execution_count": null,
   "metadata": {
    "id": "ieK5ctcE9baA",
    "outputId": "54b6cc24-072e-4a49-b631-bc9a1f3233a9"
   },
   "outputs": [
    {
     "name": "stdout",
     "output_type": "stream",
     "text": [
      "Mert\n"
     ]
    }
   ],
   "source": [
    "print(sample['username']) # james"
   ]
  },
  {
   "cell_type": "markdown",
   "metadata": {
    "id": "TvObkmIH9baA"
   },
   "source": [
    "### Sözlük Metodları (Dictionary Methods)"
   ]
  },
  {
   "cell_type": "code",
   "execution_count": null,
   "metadata": {
    "id": "vtCtpeFP9baA",
    "scrolled": true
   },
   "outputs": [],
   "source": [
    "user = {'name': 'Mert', 'age': 25, 'country': 'Turkey'}"
   ]
  },
  {
   "cell_type": "code",
   "execution_count": null,
   "metadata": {
    "id": "4LJi9_Gx9baA",
    "outputId": "2594880e-0c1f-4bc5-d60c-211d0927655c"
   },
   "outputs": [
    {
     "name": "stdout",
     "output_type": "stream",
     "text": [
      "True\n",
      "False\n",
      "True\n"
     ]
    }
   ],
   "source": [
    "print('name' in user.keys()) # True\n",
    "print('gender' in user.keys()) # False\n",
    "print('Mert' in user.values()) # True"
   ]
  }
 ],
 "metadata": {
  "colab": {
   "collapsed_sections": [],
   "name": "Introduction to Python - Day 1",
   "provenance": []
  },
  "kernelspec": {
   "display_name": "Python 3",
   "language": "python",
   "name": "python3"
  },
  "language_info": {
   "codemirror_mode": {
    "name": "ipython",
    "version": 3
   },
   "file_extension": ".py",
   "mimetype": "text/x-python",
   "name": "python",
   "nbconvert_exporter": "python",
   "pygments_lexer": "ipython3",
   "version": "3.9.5"
  }
 },
 "nbformat": 4,
 "nbformat_minor": 4
}
