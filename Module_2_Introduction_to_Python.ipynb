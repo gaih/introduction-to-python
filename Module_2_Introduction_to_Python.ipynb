{
  "nbformat": 4,
  "nbformat_minor": 0,
  "metadata": {
    "colab": {
      "name": "Module 2- Introduction to Python.ipynb",
      "provenance": [],
      "collapsed_sections": [
        "5tasFpjzCLhW",
        "dvM-V2jmCLhW"
      ]
    },
    "kernelspec": {
      "display_name": "Python 3",
      "language": "python",
      "name": "python3"
    },
    "language_info": {
      "codemirror_mode": {
        "name": "ipython",
        "version": 3
      },
      "file_extension": ".py",
      "mimetype": "text/x-python",
      "name": "python",
      "nbconvert_exporter": "python",
      "pygments_lexer": "ipython3",
      "version": "3.9.5"
    }
  },
  "cells": [
    {
      "cell_type": "markdown",
      "metadata": {
        "id": "UW-bYpQ3CLhW"
      },
      "source": [
        "# 2. Koşullar"
      ]
    },
    {
      "cell_type": "markdown",
      "metadata": {
        "id": "5tasFpjzCLhW"
      },
      "source": [
        "## 2.1 Operatörler\n",
        "\n",
        "Python'da ve dışında mantıksal operatörler çok azdır, örneğin \n",
        "`not, >, <, ==, >=, <=, !=`"
      ]
    },
    {
      "cell_type": "code",
      "metadata": {
        "id": "iHtD9TRzCLhW"
      },
      "source": [
        "print(10 > 100) # False\n",
        "print(10 < 100) # True\n",
        "print(10 == 10) # True\n",
        "print(10 != 50) # True\n",
        "print(2 > 1 and 2 > 0) # True\n",
        "print(not True) # False\n",
        "print(not False) # True"
      ],
      "execution_count": null,
      "outputs": []
    },
    {
      "cell_type": "markdown",
      "metadata": {
        "id": "dvM-V2jmCLhW"
      },
      "source": [
        "## 2.2 Koşul Durumlar\n",
        "\n",
        "Aşağıdakiler, Python'daki if-else koşullu ifadesinin bir örneğidir. Bazı koşullara göre mantık yürütmek için kullanılır. Koşul yerine getirilmezse, else bloğundaki kod çalıştırılır. Koşullu bir ifadenin içindeki blok da girintilidir."
      ]
    },
    {
      "cell_type": "code",
      "metadata": {
        "id": "waXmNuX4CLhW"
      },
      "source": [
        "age = input('Yaşınızı girin: ')\n",
        "\n",
        "if (int(age) >= 18):\n",
        "    print('Kulübe girebilirsiniz.')\n",
        "\n",
        "else:\n",
        "    print('Özür dileriz, kulübe giremezsiniz!')"
      ],
      "execution_count": null,
      "outputs": []
    },
    {
      "cell_type": "code",
      "metadata": {
        "id": "30g7Xpc2CLhW"
      },
      "source": [
        "exam_score = input('Sınav notunuzu girin: ')\n",
        "\n",
        "if (int(exam_score) > 90):\n",
        "    print('Aldığınız not A+, tebrikler!')\n",
        "\n",
        "elif (int(exam_score) > 80):\n",
        "    print('Aldığınız not A')\n",
        "\n",
        "else:\n",
        "    print('Aldığınız not B')"
      ],
      "execution_count": null,
      "outputs": []
    },
    {
      "cell_type": "code",
      "metadata": {
        "id": "YmBdAXFICLhX"
      },
      "source": [
        "is_adult = True\n",
        "is_licensed = True\n",
        "\n",
        "if (is_adult and is_licensed):\n",
        "    print('Araba kullanmaya izniniz var!')\n",
        "\n",
        "else:\n",
        "    print('Araba kullanmaya izniniz yok!')"
      ],
      "execution_count": null,
      "outputs": []
    },
    {
      "cell_type": "markdown",
      "metadata": {
        "id": "XC2WdG0BCv3m"
      },
      "source": [
        "### Ornek Calisma"
      ]
    },
    {
      "cell_type": "code",
      "metadata": {
        "id": "r7zQczqGCzE6"
      },
      "source": [
        "print(\"**************ATM Giriş Paneli**************\")\n",
        "\n",
        "# Database'de Kayitli Kullanici Adi ve Sifre\n",
        "db_kullanici_adi = \"Omer\"\n",
        "db_parola = \"hello\"\n",
        "\n",
        "# Kullanicidan Sorgulanacak Kullanici Adi ve Sifre\n",
        "kullanici_adi = input(\"Lütfen kullanıcı adınızı giriniz\")\n",
        "parola = input(\"Lütfen Parolanızı giriniz.\")\n",
        "\n",
        "# Program\n",
        "if (kullanici_adi != db_kullanici_adi and parola == db_parola):\n",
        "    print(\"Kullanıcı adınız hatalı\")\n",
        "\n",
        "elif (kullanici_adi == db_kullanici_adi and parola != db_parola):\n",
        "    print(\"Parolanız hatalı\")\n",
        "\n",
        "elif (kullanici_adi != db_kullanici_adi and parola != db_parola):\n",
        "    print(\"Kullanıcı adınız ve parolanız hatalıdır.\")\n",
        "\n",
        "else:\n",
        "    print(\"Tebrikler, Başarıyla giriş yaptınız\")"
      ],
      "execution_count": null,
      "outputs": []
    },
    {
      "cell_type": "markdown",
      "metadata": {
        "id": "gmvgEgynDgfR"
      },
      "source": [
        "### Ic Ice Kosullar"
      ]
    },
    {
      "cell_type": "code",
      "metadata": {
        "id": "tE_u8zCHDg29"
      },
      "source": [
        "x = 10\n",
        "\n",
        "if x > 5:\n",
        "    if x >7:\n",
        "        print(\"İlker and Eylül\")"
      ],
      "execution_count": null,
      "outputs": []
    },
    {
      "cell_type": "markdown",
      "metadata": {
        "id": "gDwccPO2_c0R"
      },
      "source": [
        "### Question\n",
        "\n",
        "At a particular company, employees’ salaries are raised progressively, calculated using the following formula:\n",
        "\n",
        "salary = salary + salary x (raise percentage) \n",
        "\n",
        "Raises are predefined as given below, according to the current salary of the worker. For instance, if the worker’s current salary is less than or equal to 1000 TL, then its salary is increased 15%.\n",
        "\n",
        "\n",
        "Range | Percentage\n",
        "--- | ---\n",
        "0 < salary ≤ 1000 | 15%\n",
        "1000 < salary ≤ 2000 |10%\n",
        "2000 < salary ≤ 3000| 5%\n",
        "3000 < salary | 2.5%\n",
        "\n",
        "\n",
        "Write a program that asks the user to enter his/her salary. Then your program should calculate and print the raised salary of the user.\n",
        "\n",
        "Some example program runs:\n",
        "\n",
        "Please enter your salary: 1000\n",
        "\n",
        "Your raised salary is 1150.0.\n",
        "\n",
        "Please enter your salary: 2500\n",
        "\n",
        "Your raised salary is 2625.0."
      ]
    },
    {
      "cell_type": "markdown",
      "metadata": {
        "id": "ZfMXLFHyFkDT"
      },
      "source": [
        "### Answer"
      ]
    },
    {
      "cell_type": "code",
      "metadata": {
        "id": "iXxyMx5KFj89"
      },
      "source": [
        "salary = float(input(\"Please enter your salary: \"))\n",
        "\n",
        "if salary < 0:\n",
        "    print(\"Invalid value\")\n",
        "else:\n",
        "\n",
        "    if 0 < salary <= 1000:\n",
        "        salary = salary + salary * 0.15\n",
        "    elif salary <= 2000:\n",
        "        salary = salary + salary * 0.1\n",
        "    elif salary <= 3000:\n",
        "        salary = salary + salary * 0.05\n",
        "    else:\n",
        "        salary = salary + salary * 0.025\n",
        "\n",
        "    print(\"Your raised salary is\", salary)"
      ],
      "execution_count": null,
      "outputs": []
    },
    {
      "cell_type": "markdown",
      "metadata": {
        "id": "GWhbQW7aFy1h"
      },
      "source": [
        "# 3. Döngüler\n",
        "\n",
        "Döngüler, bir kod bloğunun birkaç kez çalıştırılmasına izin verir."
      ]
    },
    {
      "cell_type": "markdown",
      "metadata": {
        "id": "4svV-k30Fy1k"
      },
      "source": [
        "## 3.1 For Döngüsü (For Loop)\n",
        "\n",
        "Python'da, temel döngü biçimi, yinelenebilir bir döngü üzerinde döngü yapabilen bir for döngüsüdür."
      ]
    },
    {
      "cell_type": "code",
      "metadata": {
        "id": "4x4YfPKnFy1k"
      },
      "source": [
        "for item in 'Python': # Stringler üzerinde gezilebilir\n",
        "    print(item) # Verilen stringdeki tüm harflerin üzerin geçer"
      ],
      "execution_count": null,
      "outputs": []
    },
    {
      "cell_type": "code",
      "metadata": {
        "id": "pqLJHaSJFy1m"
      },
      "source": [
        "for item in [1,2,3,4,5]: # Listeler üzerinde gezilebilir\n",
        "    print(item) # Verilen listedeki tüm harflerin üzerin geçer"
      ],
      "execution_count": null,
      "outputs": []
    },
    {
      "cell_type": "markdown",
      "metadata": {
        "id": "p4ZXgtwLFy1m"
      },
      "source": [
        "### Iterable"
      ]
    },
    {
      "cell_type": "markdown",
      "metadata": {
        "id": "eRk0df8gFy1m"
      },
      "source": [
        "Itareble, yinelenebilen bir veri koleksiyonudur. Koleksiyondaki parçaların tek tek işlenebileceği anlamına gelir. \n",
        "\n",
        "Listeler, dizeler, tuple'lar, kümeler ve sözlüklerin hepsi itarebledir. Yinelenebilir üzerinde gerçekleştirilen eyleme iterasyon denir."
      ]
    },
    {
      "cell_type": "code",
      "metadata": {
        "id": "JgRFb0NvFy1n"
      },
      "source": [
        "player = {\n",
        "  'firstname': 'Mert',\n",
        "  'lastname': 'Cobanov',\n",
        "  'role': 'captain'\n",
        "}"
      ],
      "execution_count": null,
      "outputs": []
    },
    {
      "cell_type": "code",
      "metadata": {
        "id": "28qQNr0xFy1n"
      },
      "source": [
        "for item in player: # iterates over the keys of player\n",
        "    print(item) # prints all keys"
      ],
      "execution_count": null,
      "outputs": []
    },
    {
      "cell_type": "code",
      "metadata": {
        "id": "5S4aBBa4Fy1n"
      },
      "source": [
        "for item in player.keys(): \n",
        "    print(item) # prints all keys"
      ],
      "execution_count": null,
      "outputs": []
    },
    {
      "cell_type": "code",
      "metadata": {
        "id": "9mblj3EbFy1o"
      },
      "source": [
        "for item in player.values():\n",
        "    print(item) # prints all values"
      ],
      "execution_count": null,
      "outputs": []
    },
    {
      "cell_type": "code",
      "metadata": {
        "id": "t_bBC76uFy1o"
      },
      "source": [
        "for item in player.items():\n",
        "    print(item) # prints key and value as tuple"
      ],
      "execution_count": null,
      "outputs": []
    },
    {
      "cell_type": "code",
      "metadata": {
        "id": "ChgPmKhWFy1o"
      },
      "source": [
        "for key, value in player.items():\n",
        "    print(key, value) # prints key and value using unpacking"
      ],
      "execution_count": null,
      "outputs": []
    },
    {
      "cell_type": "markdown",
      "metadata": {
        "id": "5iyBPxjxFy1p"
      },
      "source": [
        "### range\n",
        "\n",
        "range, Python'da bir dizi sayı oluşturmak için kullanılan yinelenebilir bir nesnedir. Genellikle döngülerde ve bir liste oluşturmak için kullanılır."
      ]
    },
    {
      "cell_type": "code",
      "metadata": {
        "id": "LJ0jZ5dEFy1p",
        "scrolled": true
      },
      "source": [
        "for item in range(10):\n",
        "    print('python') # prints python 10 times"
      ],
      "execution_count": null,
      "outputs": []
    },
    {
      "cell_type": "code",
      "metadata": {
        "id": "VWx3nv5sFy1p"
      },
      "source": [
        "for item in range(0,10,1):\n",
        "    print('hello') # prints hello 10 times"
      ],
      "execution_count": null,
      "outputs": []
    },
    {
      "cell_type": "code",
      "metadata": {
        "id": "0dJCTxBNFy1q"
      },
      "source": [
        "for item in range(0, 10, 2):\n",
        "    print('hii') # prints hii 5 times "
      ],
      "execution_count": null,
      "outputs": []
    },
    {
      "cell_type": "code",
      "metadata": {
        "id": "fq9R9fSWFy1q"
      },
      "source": [
        "for item in range(10, 0, -1):\n",
        "    print(item) # prints in reverse order"
      ],
      "execution_count": null,
      "outputs": []
    },
    {
      "cell_type": "code",
      "metadata": {
        "id": "p3ZtMH61Fy1q"
      },
      "source": [
        "print(list(range(10))) # generates a list of 10 items"
      ],
      "execution_count": null,
      "outputs": []
    },
    {
      "cell_type": "markdown",
      "metadata": {
        "id": "DA-U5yc4Fy1q"
      },
      "source": [
        "### enumerate\n",
        "\n",
        "enumerate, döngü sırasında yineleyicinin dizinine ihtiyacımız olduğunda kullanışlıdır."
      ]
    },
    {
      "cell_type": "code",
      "metadata": {
        "id": "_dooUfDxFy1r",
        "scrolled": true
      },
      "source": [
        "for key, value in enumerate(range(10)): # using unpacking techique \n",
        "    print(f'key is {key} and value is {value}') # prints key and value at the same time"
      ],
      "execution_count": null,
      "outputs": []
    },
    {
      "cell_type": "markdown",
      "metadata": {
        "id": "5zdhALFLFy1r"
      },
      "source": [
        "## 3.2 While Döngüsü (While Loop)\n",
        "\n",
        "Döngüler, belirli bir koşula bağlı olarak bir kod bloğunu birkaç kez çalıştırmanın başka bir yoludur. Yanlışlıkla sistemlerimizi çökertene kadar çalışmaya devam edecek sonsuz bir döngü oluşturmamak için while döngüleriyle uğraşırken biraz dikkatli olmalıyız!"
      ]
    },
    {
      "cell_type": "markdown",
      "metadata": {
        "id": "y7wGmxjLHIM0"
      },
      "source": [
        "```python\n",
        "hungry = True\n",
        "\n",
        "while(hungry): # Bu her zaman doğrudur, bu nedenle sistem çökene kadar yazdırmaya devam eder!\n",
        "    print('Bana yiyecek bir şeyler ver!')\n",
        "```"
      ]
    },
    {
      "cell_type": "markdown",
      "metadata": {
        "id": "J1RLzVoqFy1r"
      },
      "source": [
        "Ancak döngüler kullanışlıdır. Yazması basit ve okuması kolaydır. Sadece döngüyü ne zaman durduracağını söylememiz gerekiyor. Döngü yürütmeyi durduran ve döngüden çıkan bir `break` deyimi kullanılarak yapılabilir. Başka bir yol da, yürütmeyi durdurmak için koşulu `False`'a çevirmektir."
      ]
    },
    {
      "cell_type": "code",
      "metadata": {
        "id": "PrOp3JnfFy1s",
        "scrolled": true
      },
      "source": [
        "hungry = True\n",
        "satisfaction = 0\n",
        "\n",
        "while (satisfaction < 10):\n",
        "    satisfaction += 1\n",
        "    print('Bana yiyecek bir şeyler ver!') # on kere yazar"
      ],
      "execution_count": null,
      "outputs": []
    },
    {
      "cell_type": "markdown",
      "metadata": {
        "id": "sVfaEEqDFy1s"
      },
      "source": [
        "## 3.3 Kısa bir egsersiz\n",
        "\n",
        "Yinelenen e-postaları bir e-posta listesinde bulalım ve yazdıralım."
      ]
    },
    {
      "cell_type": "code",
      "metadata": {
        "id": "qcFKc_pRFy1s",
        "scrolled": true
      },
      "source": [
        "email_list = ['roger@hey.com','michael@hey.com','roger@hey.com','prince@gmail.com']\n",
        "duplicate_emails = []\n",
        "\n",
        "for email in email_list:\n",
        "    if email_list.count(email) > 1 and email not in duplicate_emails:\n",
        "        duplicate_emails.append(email)\n",
        "        \n",
        "print(duplicate_emails)"
      ],
      "execution_count": null,
      "outputs": []
    },
    {
      "cell_type": "markdown",
      "metadata": {
        "id": "FVF48defGC69"
      },
      "source": [
        "### Proje: Sosyal Medya Hesap İşlemleri\n",
        "\n",
        "Giris_bilgileri adında Anahtar değeri = kullanıcı adı, Değeri = şifre olan bir sözlük oluşturun.\n",
        "\n",
        "Kullanıcıdan isim için bir girdi isteyin. Eğer sözlükte böyle bir isim varsa şifre isteyin yoksa \"Böyle bir kullanıcı bulunamadı yazdırın\". Girilen şifre ve isim doğruysa bir while döngü başlatın ve kullanıcıya bir menü yazdırın. \n",
        "\n",
        "menü = '''\n",
        "      1: Şifre Değiştir\n",
        "      2: Kullanıcı Adı Değiştir\n",
        "      3: Hesabı Sil\n",
        "      q: Çıkış Yap\n",
        "      '''\n",
        "while döngüsünde ilk olarak kullanıcıdan menüden bir seçim yapmasını isteyin.\n",
        "- Seçim 1 ise, kullanıcıdan girdi olarak 8 haneden uzun yeni bir şifre talep edin. Giriş bilgileri isimli sözlükte şifre(value) değerini yeni şifre ile değiştirin\n",
        "- Seçim 2 ise, kullanıcıdan girdi olarak yeni bir isim talep edin. Giriş bilgileri isimli sözlükte isim(key) değerini yeni isim ile değiştirin\n",
        "- Seçim 3 ise, giriş bilgileri isimli sözlükten giriş yapmış olan kullanıcıyı siliniz\n",
        "- Seçim q ise, while döngüsünü bitirip uygulamayı sonlandırınız"
      ]
    },
    {
      "cell_type": "code",
      "metadata": {
        "id": "Bwc0GLZH_962"
      },
      "source": [
        "giris_bilgileri = {\"GlobalAIHub\":\"Global123\"}\n",
        "kullanici_adi = input(\"Kullanıcı Adı: \")\n",
        "girildi_mi = False\n",
        "if kullanici_adi in giris_bilgileri.keys():\n",
        "  sifre = input(\"Şifre: \")\n",
        "  if giris_bilgileri[kullanici_adi] == sifre:\n",
        "    print(\"Giriş Başarılı\")\n",
        "    girildi_mi = True\n",
        "  else: print(\"Şifre Yanlış\")\n",
        "else:\n",
        "  print(\"Böyle bir kullanıcı bulunamadı\")\n",
        "\n",
        "menu = '''\n",
        "1: Şifre Değiştir\n",
        "2: Kullanıcı Adı Değiştir\n",
        "3: Hesabı Sil\n",
        "q: Çıkış Yap\n",
        "'''\n",
        "while girildi_mi:\n",
        "  print(menu)\n",
        "  secim = input(\"Lütfen seçim yapınız: \")\n",
        "  print(\"*\"*50)\n",
        "\n",
        "  if secim == \"1\":\n",
        "    yeni_sifre = input(\"\\nLütfen yeni şifrenizi giriniz: \")\n",
        "    if len(yeni_sifre) >= 8:\n",
        "      giris_bilgileri[kullanici_adi] = yeni_sifre\n",
        "      print(f\"\\nYeni şifreniz {yeni_sifre} olarak değiştirildi!\")\n",
        "    else: print(\"Şifre en az 8 haneli olmalıdır\")\n",
        "\n",
        "  elif secim == \"2\":\n",
        "    yeni_isim = input(\"\\nLütfen yeni kullanıcı adınızı giriniz: \")\n",
        "    giris_bilgileri[yeni_isim] = giris_bilgileri[kullanici_adi]\n",
        "    del giris_bilgileri[kullanici_adi]\n",
        "    kullanici_adi = yeni_isim\n",
        "    print(f\"\\nKullanıcı adınız {yeni_isim} olarak değiştirildi!\")\n",
        "\n",
        "  elif secim == \"3\":\n",
        "    del giris_bilgileri[silinecek_isim]\n",
        "    print(\"Hesabınız başarılı bir şekilde silindi\")\n",
        "\n",
        "  elif secim == \"q\":\n",
        "    print(\"Görüşmek üzere...\")\n",
        "    break # girildi_mi = False\n",
        "\n",
        "  else:\n",
        "    print(\"Hatalı bir seçim yaptınız. Lütfen tekrar deneyin\")"
      ],
      "execution_count": null,
      "outputs": []
    }
  ]
}