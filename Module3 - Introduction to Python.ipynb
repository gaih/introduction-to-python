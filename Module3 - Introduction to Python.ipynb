{
  "nbformat": 4,
  "nbformat_minor": 0,
  "metadata": {
    "colab": {
      "name": "Module3 - Introduction to Python.ipynb",
      "provenance": [],
      "collapsed_sections": [
        "5tasFpjzCLhW",
        "dvM-V2jmCLhW",
        "spdXO3A_AZQO"
      ]
    },
    "kernelspec": {
      "display_name": "Python 3",
      "language": "python",
      "name": "python3"
    },
    "language_info": {
      "codemirror_mode": {
        "name": "ipython",
        "version": 3
      },
      "file_extension": ".py",
      "mimetype": "text/x-python",
      "name": "python",
      "nbconvert_exporter": "python",
      "pygments_lexer": "ipython3",
      "version": "3.9.5"
    }
  },
  "cells": [
    {
      "cell_type": "markdown",
      "metadata": {
        "id": "UW-bYpQ3CLhW"
      },
      "source": [
        "# 2. Koşullar"
      ]
    },
    {
      "cell_type": "markdown",
      "metadata": {
        "id": "5tasFpjzCLhW"
      },
      "source": [
        "## 2.1 Operatörler\n",
        "\n",
        "Python'da ve dışında mantıksal operatörler çok azdır, örneğin \n",
        "`not, >, <, ==, >=, <=, !=`"
      ]
    },
    {
      "cell_type": "code",
      "metadata": {
        "id": "iHtD9TRzCLhW"
      },
      "source": [
        "print(10 > 100) # False\n",
        "print(10 < 100) # True\n",
        "print(10 == 10) # True\n",
        "print(10 != 50) # True\n",
        "print(2 > 1 and 2 > 0) # True\n",
        "print(not True) # False\n",
        "print(not False) # True"
      ],
      "execution_count": null,
      "outputs": []
    },
    {
      "cell_type": "markdown",
      "metadata": {
        "id": "dvM-V2jmCLhW"
      },
      "source": [
        "## 2.2 Koşul Durumlar\n",
        "\n",
        "Aşağıdakiler, Python'daki if-else koşullu ifadesinin bir örneğidir. Bazı koşullara göre mantık yürütmek için kullanılır. Koşul yerine getirilmezse, else bloğundaki kod çalıştırılır. Koşullu bir ifadenin içindeki blok da girintilidir."
      ]
    },
    {
      "cell_type": "code",
      "metadata": {
        "id": "waXmNuX4CLhW"
      },
      "source": [
        "age = input('Yaşınızı girin: ')\n",
        "\n",
        "if (int(age) >= 18):\n",
        "    print('Kulübe girebilirsiniz.')\n",
        "\n",
        "else:\n",
        "    print('Özür dileriz, kulübe giremezsiniz!')"
      ],
      "execution_count": null,
      "outputs": []
    },
    {
      "cell_type": "code",
      "metadata": {
        "id": "30g7Xpc2CLhW"
      },
      "source": [
        "exam_score = input('Sınav notunuzu girin: ')\n",
        "\n",
        "if (int(exam_score) > 90):\n",
        "    print('Aldığınız not A+, tebrikler!')\n",
        "\n",
        "elif (int(exam_score) > 80):\n",
        "    print('Aldığınız not A')\n",
        "\n",
        "else:\n",
        "    print('Aldığınız not B')"
      ],
      "execution_count": null,
      "outputs": []
    },
    {
      "cell_type": "code",
      "metadata": {
        "id": "YmBdAXFICLhX"
      },
      "source": [
        "is_adult = True\n",
        "is_licensed = True\n",
        "\n",
        "if (is_adult and is_licensed):\n",
        "    print('Araba kullanmaya izniniz var!')\n",
        "\n",
        "else:\n",
        "    print('Araba kullanmaya izniniz yok!')"
      ],
      "execution_count": null,
      "outputs": []
    },
    {
      "cell_type": "markdown",
      "metadata": {
        "id": "XC2WdG0BCv3m"
      },
      "source": [
        "### Ornek Calisma"
      ]
    },
    {
      "cell_type": "code",
      "metadata": {
        "id": "r7zQczqGCzE6"
      },
      "source": [
        "print(\"**************ATM Giriş Paneli**************\")\n",
        "\n",
        "# Database'de Kayitli Kullanici Adi ve Sifre\n",
        "db_kullanici_adi = \"Omer\"\n",
        "db_parola = \"hello\"\n",
        "\n",
        "# Kullanicidan Sorgulanacak Kullanici Adi ve Sifre\n",
        "kullanici_adi = input(\"Lütfen kullanıcı adınızı giriniz\")\n",
        "parola = input(\"Lütfen Parolanızı giriniz.\")\n",
        "\n",
        "# Program\n",
        "if (kullanici_adi != db_kullanici_adi and parola == db_parola):\n",
        "    print(\"Kullanıcı adınız hatalı\")\n",
        "\n",
        "elif (kullanici_adi == db_kullanici_adi and parola != db_parola):\n",
        "    print(\"Parolanız hatalı\")\n",
        "\n",
        "elif (kullanici_adi != db_kullanici_adi and parola != db_parola):\n",
        "    print(\"Kullanıcı adınız ve parolanız hatalıdır.\")\n",
        "\n",
        "else:\n",
        "    print(\"Tebrikler, Başarıyla giriş yaptınız\")"
      ],
      "execution_count": null,
      "outputs": []
    },
    {
      "cell_type": "markdown",
      "metadata": {
        "id": "gmvgEgynDgfR"
      },
      "source": [
        "### Ic Ice Kosullar"
      ]
    },
    {
      "cell_type": "code",
      "metadata": {
        "id": "tE_u8zCHDg29"
      },
      "source": [
        "x = 10\n",
        "\n",
        "if x > 5:\n",
        "    if x >7:\n",
        "        print(\"İlker and Eylül\")"
      ],
      "execution_count": null,
      "outputs": []
    },
    {
      "cell_type": "markdown",
      "metadata": {
        "id": "gDwccPO2_c0R"
      },
      "source": [
        "### Question\n",
        "\n",
        "At a particular company, employees’ salaries are raised progressively, calculated using the following formula:\n",
        "\n",
        "salary = salary + salary x (raise percentage) \n",
        "\n",
        "Raises are predefined as given below, according to the current salary of the worker. For instance, if the worker’s current salary is less than or equal to 1000 TL, then its salary is increased 15%.\n",
        "\n",
        "\n",
        "Range | Percentage\n",
        "--- | ---\n",
        "0 < salary ≤ 1000 | 15%\n",
        "1000 < salary ≤ 2000 |10%\n",
        "2000 < salary ≤ 3000| 5%\n",
        "3000 < salary | 2.5%\n",
        "\n",
        "\n",
        "Write a program that asks the user to enter his/her salary. Then your program should calculate and print the raised salary of the user.\n",
        "\n",
        "Some example program runs:\n",
        "\n",
        "Please enter your salary: 1000\n",
        "\n",
        "Your raised salary is 1150.0.\n",
        "\n",
        "Please enter your salary: 2500\n",
        "\n",
        "Your raised salary is 2625.0."
      ]
    },
    {
      "cell_type": "markdown",
      "metadata": {
        "id": "ZfMXLFHyFkDT"
      },
      "source": [
        "### Answer"
      ]
    },
    {
      "cell_type": "code",
      "metadata": {
        "id": "iXxyMx5KFj89"
      },
      "source": [
        "salary = float(input(\"Please enter your salary: \"))\n",
        "\n",
        "if salary < 0:\n",
        "    print(\"Invalid value\")\n",
        "else:\n",
        "\n",
        "    if 0 < salary <= 1000:\n",
        "        salary = salary + salary * 0.15\n",
        "    elif salary <= 2000:\n",
        "        salary = salary + salary * 0.1\n",
        "    elif salary <= 3000:\n",
        "        salary = salary + salary * 0.05\n",
        "    else:\n",
        "        salary = salary + salary * 0.025\n",
        "\n",
        "    print(\"Your raised salary is\", salary)"
      ],
      "execution_count": null,
      "outputs": []
    },
    {
      "cell_type": "markdown",
      "metadata": {
        "id": "GWhbQW7aFy1h"
      },
      "source": [
        "# 3. Döngüler\n",
        "\n",
        "Döngüler, bir kod bloğunun birkaç kez çalıştırılmasına izin verir."
      ]
    },
    {
      "cell_type": "markdown",
      "metadata": {
        "id": "4svV-k30Fy1k"
      },
      "source": [
        "## 3.1 For Döngüsü (For Loop)\n",
        "\n",
        "Python'da, temel döngü biçimi, yinelenebilir bir döngü üzerinde döngü yapabilen bir for döngüsüdür."
      ]
    },
    {
      "cell_type": "code",
      "metadata": {
        "id": "4x4YfPKnFy1k"
      },
      "source": [
        "for item in 'Python': # Stringler üzerinde gezilebilir\n",
        "    print(item) # Verilen stringdeki tüm harflerin üzerin geçer"
      ],
      "execution_count": null,
      "outputs": []
    },
    {
      "cell_type": "code",
      "metadata": {
        "id": "pqLJHaSJFy1m"
      },
      "source": [
        "for item in [1,2,3,4,5]: # Listeler üzerinde gezilebilir\n",
        "    print(item) # Verilen listedeki tüm harflerin üzerin geçer"
      ],
      "execution_count": null,
      "outputs": []
    },
    {
      "cell_type": "markdown",
      "metadata": {
        "id": "p4ZXgtwLFy1m"
      },
      "source": [
        "### Iterable"
      ]
    },
    {
      "cell_type": "markdown",
      "metadata": {
        "id": "eRk0df8gFy1m"
      },
      "source": [
        "Itareble, yinelenebilen bir veri koleksiyonudur. Koleksiyondaki parçaların tek tek işlenebileceği anlamına gelir. \n",
        "\n",
        "Listeler, dizeler, tuple'lar, kümeler ve sözlüklerin hepsi itarebledir. Yinelenebilir üzerinde gerçekleştirilen eyleme iterasyon denir."
      ]
    },
    {
      "cell_type": "code",
      "metadata": {
        "id": "JgRFb0NvFy1n"
      },
      "source": [
        "player = {\n",
        "  'firstname': 'Mert',\n",
        "  'lastname': 'Cobanov',\n",
        "  'role': 'captain'\n",
        "}"
      ],
      "execution_count": null,
      "outputs": []
    },
    {
      "cell_type": "code",
      "metadata": {
        "id": "28qQNr0xFy1n"
      },
      "source": [
        "for item in player: # iterates over the keys of player\n",
        "    print(item) # prints all keys"
      ],
      "execution_count": null,
      "outputs": []
    },
    {
      "cell_type": "code",
      "metadata": {
        "id": "5S4aBBa4Fy1n"
      },
      "source": [
        "for item in player.keys(): \n",
        "    print(item) # prints all keys"
      ],
      "execution_count": null,
      "outputs": []
    },
    {
      "cell_type": "code",
      "metadata": {
        "id": "9mblj3EbFy1o"
      },
      "source": [
        "for item in player.values():\n",
        "    print(item) # prints all values"
      ],
      "execution_count": null,
      "outputs": []
    },
    {
      "cell_type": "code",
      "metadata": {
        "id": "t_bBC76uFy1o"
      },
      "source": [
        "for item in player.items():\n",
        "    print(item) # prints key and value as tuple"
      ],
      "execution_count": null,
      "outputs": []
    },
    {
      "cell_type": "code",
      "metadata": {
        "id": "ChgPmKhWFy1o"
      },
      "source": [
        "for key, value in player.items():\n",
        "    print(key, value) # prints key and value using unpacking"
      ],
      "execution_count": null,
      "outputs": []
    },
    {
      "cell_type": "markdown",
      "metadata": {
        "id": "5iyBPxjxFy1p"
      },
      "source": [
        "### range\n",
        "\n",
        "range, Python'da bir dizi sayı oluşturmak için kullanılan yinelenebilir bir nesnedir. Genellikle döngülerde ve bir liste oluşturmak için kullanılır."
      ]
    },
    {
      "cell_type": "code",
      "metadata": {
        "id": "LJ0jZ5dEFy1p",
        "scrolled": true
      },
      "source": [
        "for item in range(10):\n",
        "    print('python') # prints python 10 times"
      ],
      "execution_count": null,
      "outputs": []
    },
    {
      "cell_type": "code",
      "metadata": {
        "id": "VWx3nv5sFy1p"
      },
      "source": [
        "for item in range(0,10,1):\n",
        "    print('hello') # prints hello 10 times"
      ],
      "execution_count": null,
      "outputs": []
    },
    {
      "cell_type": "code",
      "metadata": {
        "id": "0dJCTxBNFy1q"
      },
      "source": [
        "for item in range(0, 10, 2):\n",
        "    print('hii') # prints hii 5 times "
      ],
      "execution_count": null,
      "outputs": []
    },
    {
      "cell_type": "code",
      "metadata": {
        "id": "fq9R9fSWFy1q"
      },
      "source": [
        "for item in range(10, 0, -1):\n",
        "    print(item) # prints in reverse order"
      ],
      "execution_count": null,
      "outputs": []
    },
    {
      "cell_type": "code",
      "metadata": {
        "id": "p3ZtMH61Fy1q"
      },
      "source": [
        "print(list(range(10))) # generates a list of 10 items"
      ],
      "execution_count": null,
      "outputs": []
    },
    {
      "cell_type": "markdown",
      "metadata": {
        "id": "DA-U5yc4Fy1q"
      },
      "source": [
        "### enumerate\n",
        "\n",
        "enumerate, döngü sırasında yineleyicinin dizinine ihtiyacımız olduğunda kullanışlıdır."
      ]
    },
    {
      "cell_type": "code",
      "metadata": {
        "id": "_dooUfDxFy1r",
        "scrolled": true
      },
      "source": [
        "for key, value in enumerate(range(10)): # using unpacking techique \n",
        "    print(f'key is {key} and value is {value}') # prints key and value at the same time"
      ],
      "execution_count": null,
      "outputs": []
    },
    {
      "cell_type": "markdown",
      "metadata": {
        "id": "5zdhALFLFy1r"
      },
      "source": [
        "## 3.2 While Döngüsü (While Loop)\n",
        "\n",
        "Döngüler, belirli bir koşula bağlı olarak bir kod bloğunu birkaç kez çalıştırmanın başka bir yoludur. Yanlışlıkla sistemlerimizi çökertene kadar çalışmaya devam edecek sonsuz bir döngü oluşturmamak için while döngüleriyle uğraşırken biraz dikkatli olmalıyız!"
      ]
    },
    {
      "cell_type": "markdown",
      "metadata": {
        "id": "y7wGmxjLHIM0"
      },
      "source": [
        "```python\n",
        "hungry = True\n",
        "\n",
        "while(hungry): # Bu her zaman doğrudur, bu nedenle sistem çökene kadar yazdırmaya devam eder!\n",
        "    print('Bana yiyecek bir şeyler ver!')\n",
        "```"
      ]
    },
    {
      "cell_type": "markdown",
      "metadata": {
        "id": "J1RLzVoqFy1r"
      },
      "source": [
        "Ancak döngüler kullanışlıdır. Yazması basit ve okuması kolaydır. Sadece döngüyü ne zaman durduracağını söylememiz gerekiyor. Döngü yürütmeyi durduran ve döngüden çıkan bir `break` deyimi kullanılarak yapılabilir. Başka bir yol da, yürütmeyi durdurmak için koşulu `False`'a çevirmektir."
      ]
    },
    {
      "cell_type": "code",
      "metadata": {
        "id": "PrOp3JnfFy1s",
        "scrolled": true
      },
      "source": [
        "hungry = True\n",
        "satisfaction = 0\n",
        "\n",
        "while (satisfaction < 10):\n",
        "    satisfaction += 1\n",
        "    print('Bana yiyecek bir şeyler ver!') # on kere yazar"
      ],
      "execution_count": null,
      "outputs": []
    },
    {
      "cell_type": "markdown",
      "metadata": {
        "id": "sVfaEEqDFy1s"
      },
      "source": [
        "## 3.3 Kısa bir egsersiz\n",
        "\n",
        "Yinelenen e-postaları bir e-posta listesinde bulalım ve yazdıralım."
      ]
    },
    {
      "cell_type": "code",
      "metadata": {
        "id": "qcFKc_pRFy1s",
        "scrolled": true
      },
      "source": [
        "email_list = ['roger@hey.com','michael@hey.com','roger@hey.com','prince@gmail.com']\n",
        "duplicate_emails = []\n",
        "\n",
        "for email in email_list:\n",
        "    if email_list.count(email) > 1 and email not in duplicate_emails:\n",
        "        duplicate_emails.append(email)\n",
        "        \n",
        "print(duplicate_emails)"
      ],
      "execution_count": null,
      "outputs": []
    },
    {
      "cell_type": "markdown",
      "metadata": {
        "id": "spdXO3A_AZQO"
      },
      "source": [
        "### Proje: Rehber Uygulaması\n",
        "Rehber isimli bir global değişken oluşturun. \n",
        "Kişi ekle, kişi sil, isim güncelle, numara güncelle, rastgele kişi seç, kişileri görüntüle ve main olmak üzere 7 tane fonksiyon tanımlayın.\n",
        "- Kişi ekle: parametre olarak isim ve numara alsın ve eğer verilen isim rehberde yoksa anahtar = isim, değer = numara şeklinde bir değer eklesin eklesin\n",
        "- Kişi sil: parametre olarak bir isim alsın ve exception handling ile eğer isim rehberde varsa silsin, yoksa kullanıcıya bulanamadığına dair bir çıktı yazdırsın\n",
        "- İsim güncelle: eksi ve yeni isim olmak üzere iki tane parametre alsın eğer eski isim rehberde yoksa veya yeni isim rehberde varsa hata versin, eğer bir problem yoksa rehberdeki eski ismi yeni isim ile güncellesin \n",
        "- Numara güncelle: isim ve yeni numara olmak üzere iki tane parametre alsın, verilen ismin rehberde olup olmadığını kontrol etsin ve eğer varsa numarasını yeni numara ile güncellesin\n",
        "- Rastgele kişi seç: random.choice fonksiyonunu kullanarak rehberden bir isim seçsin ve seçilen ismi ve ona ait olan numarayı **döndürsün**.\n",
        "- Kişileri görüntüle: rehberdeki bütün kişilerin isimlerini ve numaralarını alt alta ve başlarında indeksler olacak şekilde yazdırsın.\n",
        "- Main: içerisinde bir while döngüsü oluşturun ve her turda menüyü yazdırın   \n",
        "menu = '''\n",
        "   _________________________\n",
        "  | 1: Kişi ekle            |\n",
        "  | 2: Kişi Sil             |\n",
        "  | 3: İsim Güncelle        |\n",
        "  | 4: Numara Güncelle      |\n",
        "  | 5: Rastgele Kişi Seç    | \n",
        "  | 6: Kişileri Görüntüle   |\n",
        "  | q: Çıkış Yap            |\n",
        "   _________________________\n",
        "  '''\n",
        "  ardından kullanıcıdan girdi olarak bir işlem seçmesini isteyin. Seçilen işleme göre eğer gerekiyorsa fonksiyon parametrelerini de kullanıcıdan girdi olarak alın ve gerekli fonksiyonları çağırın. Kullanıcı eğer \"q\" değerini girerse döngüyü bitirin.\n",
        "\n",
        "Girdi alırken veya çıktı verirken kullanıcı ile olan etkileşimi istediğiniz gibi sağlayabilirsiniz ve menüye istediğiniz kadar farklı seçenekler ekleyebilirsiniz.\n",
        "\n",
        "En sonda main fonksiyonunu çağırarak uygulamayı başlatın ve test edin.\n",
        "\n"
      ]
    },
    {
      "cell_type": "code",
      "metadata": {
        "id": "Gs7hMdvtAB8c"
      },
      "source": [
        "import random\n",
        "\n",
        "rehber = {}\n",
        "\n",
        "def kisi_ekle(isim, numara):\n",
        "  global rehber\n",
        "  if not isim in rehber.keys():\n",
        "    rehber[isim] = numara\n",
        "    print(\"Yeni kişi eklendi\")\n",
        "  else: print(\"Böyle Bir Kişi Var\")\n",
        "\n",
        "def kisi_sil(isim):\n",
        "  global rehber\n",
        "  try:\n",
        "    del rehber[isim]\n",
        "    print(\"Kişi Silindi\")\n",
        "  except KeyError:\n",
        "    print(\"Kişi Bulunamadı\")\n",
        "\n",
        "def isim_guncelle(isim, yeni_isim):\n",
        "  global rehber\n",
        "  if isim in rehber.keys():\n",
        "    if not yeni_isim in rehber.keys():\n",
        "      rehber[yeni_isim] = rehber[isim]\n",
        "      del rehber[isim]\n",
        "      print(\"İsim Güncellendi\")\n",
        "    else: print(\"Yeni İsimde Bir Kullanıcı Mevcut\")\n",
        "  else: print(\"Kişi Bulunamadı\")\n",
        "\n",
        "def numara_guncelle(isim,yeni_numara):\n",
        "  global rehber\n",
        "  if isim in rehber.keys():\n",
        "      rehber[isim] = yeni_numara\n",
        "      print(\"Numara Güncellendi\")\n",
        "  else: print(\"Kişi Bulunamadı\")\n",
        "\n",
        "def rastgele_kisi_sec():\n",
        "  isim = random.choice(list(rehber.keys()))\n",
        "  return isim, rehber[isim]\n",
        "\n",
        "def kisileri_goruntule():\n",
        "  global rehber\n",
        "  if not len(rehber) == 0:\n",
        "    print(\"Rehber:\\n\")\n",
        "    i = 1\n",
        "    for key,value in rehber.items():\n",
        "      print(f\"{i})\\n\\tİsim: {key}\\n\\tNumara: {value}\")\n",
        "      i += 1\n",
        "    return\n",
        "  print(\"Rehber Boş\")\n",
        "\n",
        "def main():\n",
        "  global rehber\n",
        "  menu = '''\n",
        "   _________________________\n",
        "  | 1: Kişi ekle            |\n",
        "  | 2: Kişi Sil             |\n",
        "  | 3: İsim Güncelle        |\n",
        "  | 4: Numara Güncelle      |\n",
        "  | 5: Rastgele Kişi Seç    | \n",
        "  | 6: Kişileri Görüntüle   |\n",
        "  | q: Çıkış Yap            |\n",
        "   _________________________\n",
        "  '''\n",
        "  print(menu)\n",
        "  while True:\n",
        "    secim = input(\"Lütfen seçim yapınız: \")\n",
        "    print(\"*\"*50+\"\\n\")\n",
        "    if secim == \"1\":\n",
        "      isim = input(\"Yeni kişi ismi giriniz: \")\n",
        "      numara = input(\"Numarayı giriniz: \")\n",
        "      kisi_ekle(isim,numara)\n",
        "\n",
        "    elif secim == \"2\":\n",
        "      isim = input(\"Silmek istediğiniz kişinin ismini giriniz: \")\n",
        "      kisi_sil(isim)\n",
        "\n",
        "    elif secim == \"3\":\n",
        "      isim = input(\"Değiştirmek istediğiniz ismi giriniz: \")\n",
        "      yeni_isim = input(\"Yeni ismi giriniz: \")\n",
        "      isim_guncelle(isim,yeni_isim)\n",
        "\n",
        "    elif secim == \"4\":\n",
        "      isim = input(\"Numarasını değiştirmek istediğiniz kişinin ismini giriniz: \")\n",
        "      yeni_numara = input(\"Yeni numarayı giriniz: \")\n",
        "      numara_guncelle(isim,yeni_numara)\n",
        "    \n",
        "    elif secim == \"5\":\n",
        "      isim, numara = rastgele_kisi_sec()\n",
        "      print(f\"\\n\\tİsim: {isim}\\n\\tNumara: {numara}\")\n",
        "    \n",
        "    elif secim == \"6\":\n",
        "      kisileri_goruntule()\n",
        "    \n",
        "    elif secim == \"q\":\n",
        "      break\n",
        "    \n",
        "    else: print(\"Geçersiz seçim yaptınız. Lütfen tekrar deneyiniz\")\n",
        "    print(menu)\n",
        "\n",
        "main()"
      ],
      "execution_count": null,
      "outputs": []
    }
  ]
}