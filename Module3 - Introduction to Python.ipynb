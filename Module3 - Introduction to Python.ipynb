{
 "cells": [
  {
   "cell_type": "markdown",
   "metadata": {
    "id": "UW-bYpQ3CLhW"
   },
   "source": [
    "# 2. Koşullar"
   ]
  },
  {
   "cell_type": "markdown",
   "metadata": {
    "id": "5tasFpjzCLhW"
   },
   "source": [
    "## 2.1 Operatörler\n",
    "\n",
    "Python'da ve dışında mantıksal operatörler çok azdır, örneğin \n",
    "`not, >, <, ==, >=, <=, !=`"
   ]
  },
  {
   "cell_type": "code",
   "execution_count": null,
   "metadata": {
    "id": "iHtD9TRzCLhW"
   },
   "outputs": [],
   "source": [
    "print(10 > 100) # False\n",
    "print(10 < 100) # True\n",
    "print(10 == 10) # True\n",
    "print(10 != 50) # True\n",
    "print(2 > 1 and 2 > 0) # True\n",
    "print(not True) # False\n",
    "print(not False) # True"
   ]
  },
  {
   "cell_type": "markdown",
   "metadata": {
    "id": "dvM-V2jmCLhW"
   },
   "source": [
    "## 2.2 Koşul Durumlar\n",
    "\n",
    "Aşağıdakiler, Python'daki if-else koşullu ifadesinin bir örneğidir. Bazı koşullara göre mantık yürütmek için kullanılır. Koşul yerine getirilmezse, else bloğundaki kod çalıştırılır. Koşullu bir ifadenin içindeki blok da girintilidir."
   ]
  },
  {
   "cell_type": "code",
   "execution_count": null,
   "metadata": {
    "id": "waXmNuX4CLhW"
   },
   "outputs": [],
   "source": [
    "age = input('Yaşınızı girin: ')\n",
    "\n",
    "if (int(age) >= 18):\n",
    "    print('Kulübe girebilirsiniz.')\n",
    "\n",
    "else:\n",
    "    print('Özür dileriz, kulübe giremezsiniz!')"
   ]
  },
  {
   "cell_type": "code",
   "execution_count": null,
   "metadata": {
    "id": "30g7Xpc2CLhW"
   },
   "outputs": [],
   "source": [
    "exam_score = input('Sınav notunuzu girin: ')\n",
    "\n",
    "if (int(exam_score) > 90):\n",
    "    print('Aldığınız not A+, tebrikler!')\n",
    "\n",
    "elif (int(exam_score) > 80):\n",
    "    print('Aldığınız not A')\n",
    "\n",
    "else:\n",
    "    print('Aldığınız not B')"
   ]
  },
  {
   "cell_type": "code",
   "execution_count": null,
   "metadata": {
    "id": "YmBdAXFICLhX"
   },
   "outputs": [],
   "source": [
    "is_adult = True\n",
    "is_licensed = True\n",
    "\n",
    "if (is_adult and is_licensed):\n",
    "    print('Araba kullanmaya izniniz var!')\n",
    "\n",
    "else:\n",
    "    print('Araba kullanmaya izniniz yok!')"
   ]
  },
  {
   "cell_type": "markdown",
   "metadata": {
    "id": "XC2WdG0BCv3m"
   },
   "source": [
    "### Ornek Calisma"
   ]
  },
  {
   "cell_type": "code",
   "execution_count": null,
   "metadata": {
    "id": "r7zQczqGCzE6"
   },
   "outputs": [],
   "source": [
    "print(\"**************ATM Giriş Paneli**************\")\n",
    "\n",
    "# Database'de Kayitli Kullanici Adi ve Sifre\n",
    "db_kullanici_adi = \"Omer\"\n",
    "db_parola = \"hello\"\n",
    "\n",
    "# Kullanicidan Sorgulanacak Kullanici Adi ve Sifre\n",
    "kullanici_adi = input(\"Lütfen kullanıcı adınızı giriniz\")\n",
    "parola = input(\"Lütfen Parolanızı giriniz.\")\n",
    "\n",
    "# Program\n",
    "if (kullanici_adi != db_kullanici_adi and parola == db_parola):\n",
    "    print(\"Kullanıcı adınız hatalı\")\n",
    "\n",
    "elif (kullanici_adi == db_kullanici_adi and parola != db_parola):\n",
    "    print(\"Parolanız hatalı\")\n",
    "\n",
    "elif (kullanici_adi != db_kullanici_adi and parola != db_parola):\n",
    "    print(\"Kullanıcı adınız ve parolanız hatalıdır.\")\n",
    "\n",
    "else:\n",
    "    print(\"Tebrikler, Başarıyla giriş yaptınız\")"
   ]
  },
  {
   "cell_type": "markdown",
   "metadata": {
    "id": "gmvgEgynDgfR"
   },
   "source": [
    "### Ic Ice Kosullar"
   ]
  },
  {
   "cell_type": "code",
   "execution_count": null,
   "metadata": {
    "colab": {
     "base_uri": "https://localhost:8080/"
    },
    "executionInfo": {
     "elapsed": 5,
     "status": "ok",
     "timestamp": 1624018669481,
     "user": {
      "displayName": "Mert Çobanov",
      "photoUrl": "",
      "userId": "01762005122749554747"
     },
     "user_tz": -180
    },
    "id": "tE_u8zCHDg29",
    "outputId": "d9f4e3d5-8ffa-4e4e-e3dc-4620e53ec3c4"
   },
   "outputs": [],
   "source": [
    "x = 10\n",
    "\n",
    "if x > 5:\n",
    "    if x >7:\n",
    "        print(\"İlker and Eylül\")"
   ]
  },
  {
   "cell_type": "markdown",
   "metadata": {
    "id": "gDwccPO2_c0R"
   },
   "source": [
    "### Question\n",
    "\n",
    "At a particular company, employees’ salaries are raised progressively, calculated using the following formula:\n",
    "\n",
    "salary = salary + salary x (raise percentage) \n",
    "\n",
    "Raises are predefined as given below, according to the current salary of the worker. For instance, if the worker’s current salary is less than or equal to 1000 TL, then its salary is increased 15%.\n",
    "\n",
    "\n",
    "Range | Percentage\n",
    "--- | ---\n",
    "0 < salary ≤ 1000 | 15%\n",
    "1000 < salary ≤ 2000 |10%\n",
    "2000 < salary ≤ 3000| 5%\n",
    "3000 < salary | 2.5%\n",
    "\n",
    "\n",
    "Write a program that asks the user to enter his/her salary. Then your program should calculate and print the raised salary of the user.\n",
    "\n",
    "Some example program runs:\n",
    "\n",
    "Please enter your salary: 1000\n",
    "\n",
    "Your raised salary is 1150.0.\n",
    "\n",
    "Please enter your salary: 2500\n",
    "\n",
    "Your raised salary is 2625.0."
   ]
  },
  {
   "cell_type": "markdown",
   "metadata": {
    "id": "ZfMXLFHyFkDT"
   },
   "source": [
    "### Answer"
   ]
  },
  {
   "cell_type": "code",
   "execution_count": null,
   "metadata": {
    "colab": {
     "base_uri": "https://localhost:8080/"
    },
    "executionInfo": {
     "elapsed": 49188,
     "status": "error",
     "timestamp": 1624024931013,
     "user": {
      "displayName": "Mert Çobanov",
      "photoUrl": "",
      "userId": "01762005122749554747"
     },
     "user_tz": -180
    },
    "id": "iXxyMx5KFj89",
    "outputId": "40eccb2c-14b5-458a-ffd2-8dd82cf1dacc"
   },
   "outputs": [],
   "source": [
    "salary = float(input(\"Please enter your salary: \"))\n",
    "\n",
    "if salary < 0:\n",
    "    print(\"Invalid value\")\n",
    "else:\n",
    "\n",
    "    if 0 < salary <= 1000:\n",
    "        salary = salary + salary * 0.15\n",
    "    elif salary <= 2000:\n",
    "        salary = salary + salary * 0.1\n",
    "    elif salary <= 3000:\n",
    "        salary = salary + salary * 0.05\n",
    "    else:\n",
    "        salary = salary + salary * 0.025\n",
    "\n",
    "    print(\"Your raised salary is\", salary)"
   ]
  },
  {
   "cell_type": "markdown",
   "metadata": {
    "id": "GWhbQW7aFy1h"
   },
   "source": [
    "# 3. Döngüler\n",
    "\n",
    "Döngüler, bir kod bloğunun birkaç kez çalıştırılmasına izin verir."
   ]
  },
  {
   "cell_type": "markdown",
   "metadata": {
    "id": "4svV-k30Fy1k"
   },
   "source": [
    "## 3.1 For Döngüsü (For Loop)\n",
    "\n",
    "Python'da, temel döngü biçimi, yinelenebilir bir döngü üzerinde döngü yapabilen bir for döngüsüdür."
   ]
  },
  {
   "cell_type": "code",
   "execution_count": null,
   "metadata": {
    "id": "4x4YfPKnFy1k",
    "outputId": "01c55d64-1194-48b1-ff92-503f6c3093ae"
   },
   "outputs": [],
   "source": [
    "for item in 'Python': # Stringler üzerinde gezilebilir\n",
    "    print(item) # Verilen stringdeki tüm harflerin üzerin geçer"
   ]
  },
  {
   "cell_type": "code",
   "execution_count": null,
   "metadata": {
    "id": "pqLJHaSJFy1m",
    "outputId": "e15f9918-890c-4a18-e187-c41afbd731ca"
   },
   "outputs": [],
   "source": [
    "for item in [1,2,3,4,5]: # Listeler üzerinde gezilebilir\n",
    "    print(item) # Verilen listedeki tüm harflerin üzerin geçer"
   ]
  },
  {
   "cell_type": "markdown",
   "metadata": {
    "id": "p4ZXgtwLFy1m"
   },
   "source": [
    "### Iterable"
   ]
  },
  {
   "cell_type": "markdown",
   "metadata": {
    "id": "eRk0df8gFy1m"
   },
   "source": [
    "Itareble, yinelenebilen bir veri koleksiyonudur. Koleksiyondaki parçaların tek tek işlenebileceği anlamına gelir. \n",
    "\n",
    "Listeler, dizeler, tuple'lar, kümeler ve sözlüklerin hepsi itarebledir. Yinelenebilir üzerinde gerçekleştirilen eyleme iterasyon denir."
   ]
  },
  {
   "cell_type": "code",
   "execution_count": null,
   "metadata": {
    "id": "JgRFb0NvFy1n"
   },
   "outputs": [],
   "source": [
    "player = {\n",
    "  'firstname': 'Mert',\n",
    "  'lastname': 'Cobanov',\n",
    "  'role': 'captain'\n",
    "}"
   ]
  },
  {
   "cell_type": "code",
   "execution_count": null,
   "metadata": {
    "id": "28qQNr0xFy1n",
    "outputId": "ce839318-7203-411e-eb20-3e3bd22e551d"
   },
   "outputs": [],
   "source": [
    "for item in player: # iterates over the keys of player\n",
    "    print(item) # prints all keys"
   ]
  },
  {
   "cell_type": "code",
   "execution_count": null,
   "metadata": {
    "id": "5S4aBBa4Fy1n",
    "outputId": "7155ecaf-5108-4a35-d831-0c2cb1524b9b"
   },
   "outputs": [],
   "source": [
    "for item in player.keys(): \n",
    "    print(item) # prints all keys"
   ]
  },
  {
   "cell_type": "code",
   "execution_count": null,
   "metadata": {
    "id": "9mblj3EbFy1o",
    "outputId": "4989d57c-472d-475c-bcb7-e8cd3ffd5690"
   },
   "outputs": [],
   "source": [
    "for item in player.values():\n",
    "    print(item) # prints all values"
   ]
  },
  {
   "cell_type": "code",
   "execution_count": null,
   "metadata": {
    "id": "t_bBC76uFy1o",
    "outputId": "d5f36b1a-ba1f-478d-c077-30f2f85347e5"
   },
   "outputs": [],
   "source": [
    "for item in player.items():\n",
    "    print(item) # prints key and value as tuple"
   ]
  },
  {
   "cell_type": "code",
   "execution_count": null,
   "metadata": {
    "id": "ChgPmKhWFy1o",
    "outputId": "8109a965-5302-4d17-9c99-1b19603073a1"
   },
   "outputs": [],
   "source": [
    "for key, value in player.items():\n",
    "    print(key, value) # prints key and value using unpacking"
   ]
  },
  {
   "cell_type": "markdown",
   "metadata": {
    "id": "5iyBPxjxFy1p"
   },
   "source": [
    "### range\n",
    "\n",
    "range, Python'da bir dizi sayı oluşturmak için kullanılan yinelenebilir bir nesnedir. Genellikle döngülerde ve bir liste oluşturmak için kullanılır."
   ]
  },
  {
   "cell_type": "code",
   "execution_count": null,
   "metadata": {
    "id": "LJ0jZ5dEFy1p",
    "outputId": "51dadc82-208c-4bdc-ba8f-d73421dad748",
    "scrolled": true
   },
   "outputs": [],
   "source": [
    "for item in range(10):\n",
    "    print('python') # prints python 10 times"
   ]
  },
  {
   "cell_type": "code",
   "execution_count": null,
   "metadata": {
    "id": "VWx3nv5sFy1p",
    "outputId": "e11b733f-3bf1-408d-ba47-f533922abfd1"
   },
   "outputs": [],
   "source": [
    "for item in range(0,10,1):\n",
    "    print('hello') # prints hello 10 times"
   ]
  },
  {
   "cell_type": "code",
   "execution_count": null,
   "metadata": {
    "id": "0dJCTxBNFy1q",
    "outputId": "94077776-031e-4b54-fc99-2459bd043077"
   },
   "outputs": [],
   "source": [
    "for item in range(0, 10, 2):\n",
    "    print('hii') # prints hii 5 times "
   ]
  },
  {
   "cell_type": "code",
   "execution_count": null,
   "metadata": {
    "id": "fq9R9fSWFy1q",
    "outputId": "1bef4324-d8d9-442d-8da0-d7c4edf299df"
   },
   "outputs": [],
   "source": [
    "for item in range(10, 0, -1):\n",
    "    print(item) # prints in reverse order"
   ]
  },
  {
   "cell_type": "code",
   "execution_count": null,
   "metadata": {
    "id": "p3ZtMH61Fy1q",
    "outputId": "a557a6cd-d3e6-489e-d530-3b6d417ebe5b"
   },
   "outputs": [],
   "source": [
    "print(list(range(10))) # generates a list of 10 items"
   ]
  },
  {
   "cell_type": "markdown",
   "metadata": {
    "id": "DA-U5yc4Fy1q"
   },
   "source": [
    "### enumerate\n",
    "\n",
    "enumerate, döngü sırasında yineleyicinin dizinine ihtiyacımız olduğunda kullanışlıdır."
   ]
  },
  {
   "cell_type": "code",
   "execution_count": null,
   "metadata": {
    "id": "_dooUfDxFy1r",
    "outputId": "281bd4b4-90cb-4d6a-85a2-73c856bb20c3",
    "scrolled": true
   },
   "outputs": [],
   "source": [
    "for key, value in enumerate(range(10)): # using unpacking techique \n",
    "    print(f'key is {key} and value is {value}') # prints key and value at the same time"
   ]
  },
  {
   "cell_type": "markdown",
   "metadata": {
    "id": "5zdhALFLFy1r"
   },
   "source": [
    "## 3.2 While Döngüsü (While Loop)\n",
    "\n",
    "Döngüler, belirli bir koşula bağlı olarak bir kod bloğunu birkaç kez çalıştırmanın başka bir yoludur. Yanlışlıkla sistemlerimizi çökertene kadar çalışmaya devam edecek sonsuz bir döngü oluşturmamak için while döngüleriyle uğraşırken biraz dikkatli olmalıyız!"
   ]
  },
  {
   "cell_type": "markdown",
   "metadata": {
    "id": "y7wGmxjLHIM0"
   },
   "source": [
    "```python\n",
    "hungry = True\n",
    "\n",
    "while(hungry): # Bu her zaman doğrudur, bu nedenle sistem çökene kadar yazdırmaya devam eder!\n",
    "    print('Bana yiyecek bir şeyler ver!')\n",
    "```"
   ]
  },
  {
   "cell_type": "markdown",
   "metadata": {
    "id": "J1RLzVoqFy1r"
   },
   "source": [
    "Ancak döngüler kullanışlıdır. Yazması basit ve okuması kolaydır. Sadece döngüyü ne zaman durduracağını söylememiz gerekiyor. Döngü yürütmeyi durduran ve döngüden çıkan bir `break` deyimi kullanılarak yapılabilir. Başka bir yol da, yürütmeyi durdurmak için koşulu `False`'a çevirmektir."
   ]
  },
  {
   "cell_type": "code",
   "execution_count": null,
   "metadata": {
    "id": "PrOp3JnfFy1s",
    "outputId": "ee469e1c-f843-4388-f2e3-ad1f61ba24d3",
    "scrolled": true
   },
   "outputs": [],
   "source": [
    "hungry = True\n",
    "satisfaction = 0\n",
    "\n",
    "while (satisfaction < 10):\n",
    "    satisfaction += 1\n",
    "    print('Bana yiyecek bir şeyler ver!') # on kere yazar"
   ]
  },
  {
   "cell_type": "markdown",
   "metadata": {
    "id": "sVfaEEqDFy1s"
   },
   "source": [
    "## 3.3 Kısa bir egsersiz\n",
    "\n",
    "Yinelenen e-postaları bir e-posta listesinde bulalım ve yazdıralım."
   ]
  },
  {
   "cell_type": "code",
   "execution_count": null,
   "metadata": {
    "id": "qcFKc_pRFy1s",
    "outputId": "48a2a954-5617-423c-9585-cdcbd0eb3879",
    "scrolled": true
   },
   "outputs": [],
   "source": [
    "email_list = ['roger@hey.com','michael@hey.com','roger@hey.com','prince@gmail.com']\n",
    "duplicate_emails = []\n",
    "\n",
    "for email in email_list:\n",
    "    if email_list.count(email) > 1 and email not in duplicate_emails:\n",
    "        duplicate_emails.append(email)\n",
    "        \n",
    "print(duplicate_emails)"
   ]
  }
 ],
 "metadata": {
  "colab": {
   "collapsed_sections": [
    "5tasFpjzCLhW",
    "dvM-V2jmCLhW"
   ],
   "name": "Introduction to Python - Day 2",
   "provenance": []
  },
  "kernelspec": {
   "display_name": "Python 3",
   "language": "python",
   "name": "python3"
  },
  "language_info": {
   "codemirror_mode": {
    "name": "ipython",
    "version": 3
   },
   "file_extension": ".py",
   "mimetype": "text/x-python",
   "name": "python",
   "nbconvert_exporter": "python",
   "pygments_lexer": "ipython3",
   "version": "3.9.5"
  }
 },
 "nbformat": 4,
 "nbformat_minor": 4
}
