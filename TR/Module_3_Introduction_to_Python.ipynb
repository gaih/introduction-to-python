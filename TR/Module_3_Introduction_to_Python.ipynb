{
  "nbformat": 4,
  "nbformat_minor": 0,
  "metadata": {
    "colab": {
      "name": "Module 3 - Introduction to Python.ipynb",
      "provenance": [],
      "collapsed_sections": []
    },
    "kernelspec": {
      "display_name": "Python 3",
      "language": "python",
      "name": "python3"
    },
    "language_info": {
      "codemirror_mode": {
        "name": "ipython",
        "version": 3
      },
      "file_extension": ".py",
      "mimetype": "text/x-python",
      "name": "python",
      "nbconvert_exporter": "python",
      "pygments_lexer": "ipython3",
      "version": "3.9.5"
    }
  },
  "cells": [
    {
      "cell_type": "markdown",
      "metadata": {
        "id": "q7dhkh67Fy1s"
      },
      "source": [
        "# 4. Fonksiyonlar\n",
        "\n",
        "Fonksiyonlar çok önemli bir kavramdır ve tüm programlama dillerinde mevcutturlar. Fonksiyonlar, bir eylemi (kod bloğu) tanımlamamıza  izin verir. Şimdiye kadar, Python tarafından sağlanan print, input, len vb. Gibi bazı yerleşik işlevleri kullanıyorduk. Şimdi bir tane oluşturma zamanı."
      ]
    },
    {
      "cell_type": "code",
      "metadata": {
        "id": "2ZOXnE2aFy1s",
        "scrolled": true,
        "outputId": "a9117738-a8ea-416e-eee8-30a3e7a562d2"
      },
      "source": [
        "def blow_fire(): # Burası fonksiyonu tanımladığımız yer\n",
        "    print('fire 🔥 🔥 🔥')\n",
        "\n",
        "blow_fire() # Burada fonksiyonu çağırmak için çağırıyoruz\n",
        "blow_fire() # İstediğimiz kadar çağırabiliriz\n"
      ],
      "execution_count": null,
      "outputs": [
        {
          "output_type": "stream",
          "text": [
            "fire 🔥 🔥 🔥\n",
            "fire 🔥 🔥 🔥\n"
          ],
          "name": "stdout"
        }
      ]
    },
    {
      "cell_type": "markdown",
      "metadata": {
        "id": "_tiM_9YmFy1t"
      },
      "source": [
        "## 4.1 Argümanlar ve Parametreler (Arguments and Parameters)\n",
        "\n",
        "Yukarıdaki işlev biraz havalıydı, ancak bazı sınırlamaları da var. Yalnızca aynı eylemi gerçekleştirebilir. Daha genişletilebilir hale getirelim ve ona bazı veriler aktararak istediği gibi eylemler gerçekleştirmesini sağlayalım"
      ]
    },
    {
      "cell_type": "code",
      "metadata": {
        "id": "e7t4WvcqFy1t",
        "outputId": "633cabc9-8e73-4fe3-917e-832f31ef99a7"
      },
      "source": [
        "def blower(name, emoji): # parameterler\n",
        "    print(f'{name} {emoji} {emoji} {emoji}')\n",
        "\n",
        "blower('fire', '🔥') # argümanlar\n",
        "blower('water', '🌊')"
      ],
      "execution_count": null,
      "outputs": [
        {
          "output_type": "stream",
          "text": [
            "fire 🔥 🔥 🔥\n",
            "water 🌊 🌊 🌊\n"
          ],
          "name": "stdout"
        }
      ]
    },
    {
      "cell_type": "markdown",
      "metadata": {
        "id": "8hchECTmFy1t"
      },
      "source": [
        "## 4.2 return\n",
        "\n",
        "return, Python'da bir işlevden bir değer döndürmek için kullanılan bir anahtar sözcüktür. İşlevleri daha kullanışlı hale getirmek için, bir ifadeyi değerlendirmeye dayalı olarak bir değer döndürmesi gerekir. Herhangi bir return ifadesi belirtilmezse veya return ifadesinin ifadesi bir veri türü olarak değerlendirilmezse, işlev None döndürür. \n",
        "\n",
        "return ifadesi işlevi sonlandırır ve işlevden çıkar."
      ]
    },
    {
      "cell_type": "code",
      "metadata": {
        "id": "yqgevVejFy1t",
        "outputId": "2cffb420-a2f6-4e44-a7a8-d65bef711d40"
      },
      "source": [
        "def multiplier(num1, num2):\n",
        "    return num1 * num2\n",
        "\n",
        "result = multiplier(2,3)\n",
        "print(result) # 6"
      ],
      "execution_count": null,
      "outputs": [
        {
          "output_type": "stream",
          "text": [
            "6\n"
          ],
          "name": "stdout"
        }
      ]
    },
    {
      "cell_type": "markdown",
      "metadata": {
        "id": "BzOFS4ZJFy1u"
      },
      "source": [
        "Return ifadesini kullanarak havalı bir şeyler yapma zamanı."
      ]
    },
    {
      "cell_type": "code",
      "metadata": {
        "id": "WMJNdqRZFy1u",
        "scrolled": true
      },
      "source": [
        "def sum(num1):\n",
        "    def child(num2):\n",
        "        return num1 + num2\n",
        "    return child"
      ],
      "execution_count": null,
      "outputs": []
    },
    {
      "cell_type": "code",
      "metadata": {
        "id": "xgm7Qnz5Fy1u"
      },
      "source": [
        "add_10 = sum(10)"
      ],
      "execution_count": null,
      "outputs": []
    },
    {
      "cell_type": "code",
      "metadata": {
        "id": "apd521hBFy1u",
        "outputId": "4290ebb0-876c-4ced-e52e-32af29505407"
      },
      "source": [
        "print(add_10(20)) # 30  (Closure!!!)\n",
        "print(add_10(50)) # 60\n",
        "print(add_10(100)) # 110"
      ],
      "execution_count": null,
      "outputs": [
        {
          "output_type": "stream",
          "text": [
            "30\n",
            "60\n",
            "110\n"
          ],
          "name": "stdout"
        }
      ]
    },
    {
      "cell_type": "markdown",
      "metadata": {
        "id": "qDFq1N_9Pr3R"
      },
      "source": [
        "### Ornekler"
      ]
    },
    {
      "cell_type": "markdown",
      "metadata": {
        "id": "pqogNsBfP_g1"
      },
      "source": [
        "Tek return olan bir fonksiyon ornegi"
      ]
    },
    {
      "cell_type": "code",
      "metadata": {
        "id": "NqTXF_8kPrsR"
      },
      "source": [
        "def summ(a, b):\n",
        "  value = a + b\n",
        "  return value"
      ],
      "execution_count": null,
      "outputs": []
    },
    {
      "cell_type": "code",
      "metadata": {
        "colab": {
          "base_uri": "https://localhost:8080/"
        },
        "id": "_CAsffx0P1TI",
        "outputId": "6b277115-fa17-41a2-b43d-d359da22a440"
      },
      "source": [
        "sonuc = summ(6.0,7.5)\n",
        "print(sonuc)"
      ],
      "execution_count": null,
      "outputs": [
        {
          "output_type": "stream",
          "text": [
            "13.5\n"
          ],
          "name": "stdout"
        }
      ]
    },
    {
      "cell_type": "markdown",
      "metadata": {
        "id": "qXT-QjaFQDFA"
      },
      "source": [
        "Fonksiyonlar birden fazla deger de dondurebilirler"
      ]
    },
    {
      "cell_type": "code",
      "metadata": {
        "id": "2k7Fj3wDQGS9"
      },
      "source": [
        "def func(x,y):\n",
        "  summ = x + y\n",
        "  multip = x * y\n",
        "  return (summ, multip)"
      ],
      "execution_count": null,
      "outputs": []
    },
    {
      "cell_type": "code",
      "metadata": {
        "colab": {
          "base_uri": "https://localhost:8080/"
        },
        "id": "HMWmEGW2QJZq",
        "outputId": "e506f795-3bfa-4a6d-8d41-1bc83906a152"
      },
      "source": [
        "toplam, carpim = func(23,45)\n",
        "\n",
        "print(toplam, carpim)"
      ],
      "execution_count": null,
      "outputs": [
        {
          "output_type": "stream",
          "text": [
            "68 1035\n"
          ],
          "name": "stdout"
        }
      ]
    },
    {
      "cell_type": "markdown",
      "metadata": {
        "id": "U1Ifuv5lQRTj"
      },
      "source": [
        "Fonksiyonlar kosullu ifadeler veya donguler ile de birlestirilebilir"
      ]
    },
    {
      "cell_type": "code",
      "metadata": {
        "id": "1poo3uyCQUds"
      },
      "source": [
        "def func(x):\n",
        "  if x > 0:\n",
        "    return (\"Positive\")\n",
        "\n",
        "  elif x < 0:\n",
        "    return (\"Negative\")\n",
        "    \n",
        "  else:\n",
        "    return (\"Zero\")"
      ],
      "execution_count": null,
      "outputs": []
    },
    {
      "cell_type": "code",
      "metadata": {
        "colab": {
          "base_uri": "https://localhost:8080/"
        },
        "id": "vcqhsM0bQXtc",
        "outputId": "c2335250-f0fb-4970-eff8-61fd0c4b3a63"
      },
      "source": [
        "for i in [-2, 5, 6, 0, -4, -7]:\n",
        "  print(func(i))\n"
      ],
      "execution_count": null,
      "outputs": [
        {
          "output_type": "stream",
          "text": [
            "Negative\n",
            "Positive\n",
            "Positive\n",
            "Zero\n",
            "Negative\n",
            "Negative\n"
          ],
          "name": "stdout"
        }
      ]
    },
    {
      "cell_type": "markdown",
      "metadata": {
        "id": "BAEcEf-CQe3n"
      },
      "source": [
        "### Ornek Faktoriyel Hesaplama"
      ]
    },
    {
      "cell_type": "code",
      "metadata": {
        "id": "1M6-P8KFQiJZ"
      },
      "source": [
        "#factorial calculation\n",
        "#0! = 1\n",
        "#1!= 1\n",
        "#2!= 2 * 1 =2\n",
        "#6! = 6 * 5* 4 *3 * 2 *1 = 720\n",
        "\n",
        "def factorial(num):\n",
        "    \n",
        "    factorial = 1\n",
        "    if (num == 0 or num == 1):\n",
        "        print(\"Factorial: \", factorial)\n",
        "        \n",
        "    else:\n",
        "        while (num >= 1):\n",
        "            factorial = factorial * num\n",
        "            num -= 1\n",
        "            \n",
        "    print(\"Factorial: \", factorial)"
      ],
      "execution_count": null,
      "outputs": []
    },
    {
      "cell_type": "code",
      "metadata": {
        "colab": {
          "base_uri": "https://localhost:8080/"
        },
        "id": "hyzTQkqrQmZR",
        "outputId": "e7bcefe7-910a-497c-9a02-55c31a4e73ab"
      },
      "source": [
        "factorial(5)"
      ],
      "execution_count": null,
      "outputs": [
        {
          "output_type": "stream",
          "text": [
            "Factorial:  120\n"
          ],
          "name": "stdout"
        }
      ]
    },
    {
      "cell_type": "markdown",
      "metadata": {
        "id": "qyuq5dSOQsrR"
      },
      "source": [
        "Fonkisyonlarin icerisinde diger metodlar da kullanilabilir"
      ]
    },
    {
      "cell_type": "code",
      "metadata": {
        "id": "erNMKGGKQvwj"
      },
      "source": [
        "def hello2(name, capLetter = False):\n",
        "\n",
        "    if capLetter:\n",
        "        print(\"Hello \" + name.upper())\n",
        "    \n",
        "    else:\n",
        "        print(\"Hello \" + name)"
      ],
      "execution_count": null,
      "outputs": []
    },
    {
      "cell_type": "code",
      "metadata": {
        "colab": {
          "base_uri": "https://localhost:8080/"
        },
        "id": "XmpF-rGuQzOn",
        "outputId": "5fe32b9e-003a-4c89-9748-5e104a5e0730"
      },
      "source": [
        "hello2(\"asli\")"
      ],
      "execution_count": null,
      "outputs": [
        {
          "output_type": "stream",
          "text": [
            "Hello asli\n"
          ],
          "name": "stdout"
        }
      ]
    },
    {
      "cell_type": "code",
      "metadata": {
        "colab": {
          "base_uri": "https://localhost:8080/"
        },
        "id": "6iONCcj3Q1Wb",
        "outputId": "d9b7b1d4-79bd-4d26-dcd3-0485254d119d"
      },
      "source": [
        "hello2(\"Asli\", capLetter= True)"
      ],
      "execution_count": null,
      "outputs": [
        {
          "output_type": "stream",
          "text": [
            "Hello ASLI\n"
          ],
          "name": "stdout"
        }
      ]
    },
    {
      "cell_type": "markdown",
      "metadata": {
        "id": "sw36UHJtFy1u"
      },
      "source": [
        "## 4.3 Scope\n",
        "\n",
        "Basitçe anlatmak gerekirse **\"Hangi değişkenlere erişimim var?\"** Anlamına gelir. Bu, yorumlayıcının değişkenlerin kapsamını bulmak için kodu okurken sorduğu türden bir sorudur. Python'da değişkenlerin işlev kapsamı vardır, bu da bir işlev içinde tanımlanan değişkenlere işlevin dışından erişilemeyeceği anlamına gelir."
      ]
    },
    {
      "cell_type": "code",
      "metadata": {
        "id": "ZslCONDuFy1u",
        "scrolled": true
      },
      "source": [
        "num = 1\n",
        "\n",
        "def confusing_function():\n",
        "    \n",
        "    num = 10\n",
        "    return num"
      ],
      "execution_count": null,
      "outputs": []
    },
    {
      "cell_type": "code",
      "metadata": {
        "id": "x-QTA3lbFy1v",
        "outputId": "582fac13-906b-4356-d7a2-9c8a22d76b2f"
      },
      "source": [
        "print(num) # 1 => Global Scope\n",
        "print(confusing_function()) # 10 => Local Scope"
      ],
      "execution_count": null,
      "outputs": [
        {
          "output_type": "stream",
          "text": [
            "1\n",
            "10\n"
          ],
          "name": "stdout"
        }
      ]
    },
    {
      "cell_type": "markdown",
      "metadata": {
        "id": "CWf35HmwFy1v"
      },
      "source": [
        "**Python yorumlayıcısının izlediği kapsam kuralları şunlardır:**\n",
        "\n",
        "- Yerel ile başlayın. Değişken mevcut mu? Ardından değeri alın. Değilse devam edin\n",
        "- Değişken, ana işlevin yerel kapsamında tanımlanmış mı? Varsa değeri getir, yoksa devam et\n",
        "- Değişken genel kapsamda mevcut mu? Varsa değeri getir, yoksa devam et\n",
        "- Değişken yerleşik bir işlev mi? Değeri getir, yoksa çıkışı"
      ]
    },
    {
      "cell_type": "markdown",
      "metadata": {
        "id": "hqiueftBQ9Z_"
      },
      "source": [
        "### Lambda Fonksiyonlar"
      ]
    },
    {
      "cell_type": "code",
      "metadata": {
        "colab": {
          "base_uri": "https://localhost:8080/"
        },
        "id": "6TkphRWBQ-8M",
        "outputId": "52111f9f-951f-4a6d-913f-5473f29ded9b"
      },
      "source": [
        "#lambda function\n",
        "(lambda x: x + 1)(2)"
      ],
      "execution_count": null,
      "outputs": [
        {
          "output_type": "execute_result",
          "data": {
            "text/plain": [
              "3"
            ]
          },
          "metadata": {
            "tags": []
          },
          "execution_count": 15
        }
      ]
    },
    {
      "cell_type": "code",
      "metadata": {
        "colab": {
          "base_uri": "https://localhost:8080/",
          "height": 35
        },
        "id": "L2x_LKm5RAMy",
        "outputId": "a5f8cf71-df93-4b8b-cda1-9bb2cc5fddaa"
      },
      "source": [
        "full_name = lambda first, last: f'Full name: {first.title()} {last.title()}'\n",
        "full_name('guido', 'van rossum')"
      ],
      "execution_count": null,
      "outputs": [
        {
          "output_type": "execute_result",
          "data": {
            "application/vnd.google.colaboratory.intrinsic+json": {
              "type": "string"
            },
            "text/plain": [
              "'Full name: Guido Van Rossum'"
            ]
          },
          "metadata": {
            "tags": []
          },
          "execution_count": 16
        }
      ]
    },
    {
      "cell_type": "markdown",
      "metadata": {
        "id": "Hgq6Gt61Y-b4"
      },
      "source": [
        "## 4.4 Moduller"
      ]
    },
    {
      "cell_type": "code",
      "metadata": {
        "id": "ZwhwBEdLY_HR"
      },
      "source": [
        "words = [\"artificial\",\"intelligence\",\"machine\",\"learning\",\"python\",\"programming\"]\n",
        "\n",
        "\n",
        "#from random import *\n",
        "import random as rnd\n",
        "\n",
        "def randomWord(words):\n",
        "    index = rnd.randint(0, len(words)-1)\n",
        "    return words[index]\n",
        "  "
      ],
      "execution_count": null,
      "outputs": []
    },
    {
      "cell_type": "code",
      "metadata": {
        "id": "rg4WG8obZJAE"
      },
      "source": [
        "len(words)"
      ],
      "execution_count": null,
      "outputs": []
    },
    {
      "cell_type": "code",
      "metadata": {
        "id": "TSYLKfr3ZMEP"
      },
      "source": [
        "word = randomWord(words)\n",
        "print(word)"
      ],
      "execution_count": null,
      "outputs": []
    },
    {
      "cell_type": "markdown",
      "metadata": {
        "id": "3uarilP0ZOdQ"
      },
      "source": [
        "## 4.5 Metodlar"
      ]
    },
    {
      "cell_type": "markdown",
      "metadata": {
        "id": "4JzGqpMwZT6n"
      },
      "source": [
        "## Metodlar\n",
        "\n",
        "Fonksiyonlar isimleri ile çağrılır, parametre içine alınabilir ve isteğe bağlı olarak elde edilen değer fonksiyonun dışında kullanılabilir.\n",
        "Yöntemler ayrıca adlarıyla da adlandırılırlar, birçok yönden işlevlere benzerler, ancak çağrı, bir String veya liste gibi bir nesne aracılığıyla gerçekleştirilir.\n",
        "\n",
        "object.methodName(parameter)"
      ]
    },
    {
      "cell_type": "code",
      "metadata": {
        "id": "sUnXe_GVZeBx"
      },
      "source": [
        "s = input(\"Please enter a name: \")\n",
        "\n",
        "print(s.upper())"
      ],
      "execution_count": null,
      "outputs": []
    },
    {
      "cell_type": "markdown",
      "metadata": {
        "id": "jQJEl4kcZn1n"
      },
      "source": [
        "# Exceptions \n",
        "\n",
        "* Programmer Errors \n",
        "* Program Bugs \n",
        "* Exceptions"
      ]
    },
    {
      "cell_type": "code",
      "metadata": {
        "id": "5d2l2YVgZoD4"
      },
      "source": [
        "# error example,SyntaxError.\n",
        "\n",
        "print \"Hello World!\"   "
      ],
      "execution_count": null,
      "outputs": []
    },
    {
      "cell_type": "code",
      "metadata": {
        "id": "qnXbYAmjZreT"
      },
      "source": [
        "#bug example.\n",
        "\n",
        "num1 = input(\"Enter the first integer: \")\n",
        "num2 = input(\"Enter the second integer: \")\n",
        "\n",
        "print(num1, \"+\", num2, \"=\", num1 + num2)\n"
      ],
      "execution_count": null,
      "outputs": []
    },
    {
      "cell_type": "code",
      "metadata": {
        "id": "L2m33VggZtWn"
      },
      "source": [
        "# ZeroDivisionError.\n",
        "\n",
        "\n",
        "num3 = int(input(\"First integer: \"))\n",
        "num4 = int(input(\"Second integer: \"))\n",
        "\n",
        "print(num3, \"/\",num4, \"=\", num3/num4)"
      ],
      "execution_count": null,
      "outputs": []
    },
    {
      "cell_type": "markdown",
      "metadata": {
        "id": "Stcay0lvZtQL"
      },
      "source": [
        "## Exception Handling\n",
        "\n",
        "\n",
        "try:\n",
        "\n",
        "\n",
        "> the situations where we can get exceptions\n",
        "\n",
        "except \"Exception Name\":\n",
        "\n",
        "\n",
        "> the operations in case of exceptions\n",
        "\n",
        "\n",
        "\n"
      ]
    },
    {
      "cell_type": "code",
      "metadata": {
        "id": "iWaawuLrZx74"
      },
      "source": [
        "x = \"Alan Turing\"\n",
        "\n",
        "int(x)"
      ],
      "execution_count": null,
      "outputs": []
    },
    {
      "cell_type": "code",
      "metadata": {
        "id": "MNQaIOpvZ2YM"
      },
      "source": [
        "try:\n",
        "    int(x)\n",
        "\n",
        "except ValueError:\n",
        "    print(\"Please enter an integer value!!!\")"
      ],
      "execution_count": null,
      "outputs": []
    },
    {
      "cell_type": "code",
      "metadata": {
        "id": "MM66D0IHZ2PJ"
      },
      "source": [
        "num3 = input(\"First integer: \")\n",
        "num4 = input(\"Second integer: \")\n",
        "\n",
        "try:\n",
        "    num3_int = int(num3)\n",
        "    num4_int = int(num4)\n",
        "\n",
        "    print(num3_int, \"/\",num4_int, \"=\", num3_int/num4_int)\n",
        "\n",
        "except ValueError:\n",
        "    print(\"Please enter an integer value!!!\")"
      ],
      "execution_count": null,
      "outputs": []
    },
    {
      "cell_type": "code",
      "metadata": {
        "id": "f4BaeeS1Z6r1"
      },
      "source": [
        "#exception handling in loop structure\n",
        "\n",
        "\n",
        "while True:\n",
        "    num1 = input(\"First number: (Press q for quit the program): \")\n",
        "\n",
        "    if num1 == \"q\":\n",
        "        break\n",
        "\n",
        "    num2 = input(\"Second number: \")\n",
        "\n",
        "    try:\n",
        "        num1_int = int(num1)\n",
        "        num2_int = int(num2)\n",
        "        print(num1_int, \"/\", num2_int, \"=\", num1_int / num2_int)\n",
        "    except (ValueError, ZeroDivisionError):\n",
        "        print(\"Error!\")\n",
        "        print(\"Please try again!\")"
      ],
      "execution_count": null,
      "outputs": []
    },
    {
      "cell_type": "markdown",
      "metadata": {
        "id": "FVF48defGC69"
      },
      "source": [
        "### Proje: Sosyal Medya Hesap İşlemleri\n",
        "\n",
        "Giris_bilgileri adında Anahtar değeri = kullanıcı adı, Değeri = şifre olan bir sözlük oluşturun.\n",
        "\n",
        "Kullanıcıdan isim için bir girdi isteyin. Eğer sözlükte böyle bir isim varsa şifre isteyin yoksa \"Böyle bir kullanıcı bulunamadı yazdırın\". Girilen şifre ve isim doğruysa bir while döngü başlatın ve kullanıcıya bir menü yazdırın. \n",
        "\n",
        "menü = '''\n",
        "      1: Şifre Değiştir\n",
        "      2: Kullanıcı Adı Değiştir\n",
        "      3: Hesabı Sil\n",
        "      q: Çıkış Yap\n",
        "      '''\n",
        "while döngüsünde ilk olarak kullanıcıdan menüden bir seçim yapmasını isteyin.\n",
        "- Seçim 1 ise, kullanıcıdan girdi olarak 8 haneden uzun yeni bir şifre talep edin. Giriş bilgileri isimli sözlükte şifre(value) değerini yeni şifre ile değiştirin\n",
        "- Seçim 2 ise, kullanıcıdan girdi olarak yeni bir isim talep edin. Giriş bilgileri isimli sözlükte isim(key) değerini yeni isim ile değiştirin\n",
        "- Seçim 3 ise, giriş bilgileri isimli sözlükten giriş yapmış olan kullanıcıyı siliniz\n",
        "- Seçim q ise, while döngüsünü bitirip uygulamayı sonlandırınız"
      ]
    },
    {
      "cell_type": "code",
      "metadata": {
        "id": "Bwc0GLZH_962"
      },
      "source": [
        "giris_bilgileri = {\"GlobalAIHub\":\"Global123\"}\n",
        "kullanici_adi = input(\"Kullanıcı Adı: \")\n",
        "girildi_mi = False\n",
        "if kullanici_adi in giris_bilgileri.keys():\n",
        "  sifre = input(\"Şifre: \")\n",
        "  if giris_bilgileri[kullanici_adi] == sifre:\n",
        "    print(\"Giriş Başarılı\")\n",
        "    girildi_mi = True\n",
        "  else: print(\"Şifre Yanlış\")\n",
        "else:\n",
        "  print(\"Böyle bir kullanıcı bulunamadı\")\n",
        "\n",
        "menu = '''\n",
        "1: Şifre Değiştir\n",
        "2: Kullanıcı Adı Değiştir\n",
        "3: Hesabı Sil\n",
        "q: Çıkış Yap\n",
        "'''\n",
        "while girildi_mi:\n",
        "  print(menu)\n",
        "  secim = input(\"Lütfen seçim yapınız: \")\n",
        "  print(\"*\"*50)\n",
        "\n",
        "  if secim == \"1\":\n",
        "    yeni_sifre = input(\"\\nLütfen yeni şifrenizi giriniz: \")\n",
        "    if len(yeni_sifre) >= 8:\n",
        "      giris_bilgileri[kullanici_adi] = yeni_sifre\n",
        "      print(f\"\\nYeni şifreniz {yeni_sifre} olarak değiştirildi!\")\n",
        "    else: print(\"Şifre en az 8 haneli olmalıdır\")\n",
        "\n",
        "  elif secim == \"2\":\n",
        "    yeni_isim = input(\"\\nLütfen yeni kullanıcı adınızı giriniz: \")\n",
        "    giris_bilgileri[yeni_isim] = giris_bilgileri[kullanici_adi]\n",
        "    del giris_bilgileri[kullanici_adi]\n",
        "    kullanici_adi = yeni_isim\n",
        "    print(f\"\\nKullanıcı adınız {yeni_isim} olarak değiştirildi!\")\n",
        "\n",
        "  elif secim == \"3\":\n",
        "    del giris_bilgileri[silinecek_isim]\n",
        "    print(\"Hesabınız başarılı bir şekilde silindi\")\n",
        "\n",
        "  elif secim == \"q\":\n",
        "    print(\"Görüşmek üzere...\")\n",
        "    break # girildi_mi = False\n",
        "\n",
        "  else:\n",
        "    print(\"Hatalı bir seçim yaptınız. Lütfen tekrar deneyin\")"
      ],
      "execution_count": null,
      "outputs": []
    },
    {
      "cell_type": "markdown",
      "metadata": {
        "id": "spdXO3A_AZQO"
      },
      "source": [
        "### Proje: Rehber Uygulaması\n",
        "Rehber isimli bir global değişken oluşturun. \n",
        "Kişi ekle, kişi sil, isim güncelle, numara güncelle, rastgele kişi seç, kişileri görüntüle ve main olmak üzere 7 tane fonksiyon tanımlayın.\n",
        "- Kişi ekle: parametre olarak isim ve numara alsın ve eğer verilen isim rehberde yoksa anahtar = isim, değer = numara şeklinde bir değer eklesin eklesin\n",
        "- Kişi sil: parametre olarak bir isim alsın ve exception handling ile eğer isim rehberde varsa silsin, yoksa kullanıcıya bulanamadığına dair bir çıktı yazdırsın\n",
        "- İsim güncelle: eksi ve yeni isim olmak üzere iki tane parametre alsın eğer eski isim rehberde yoksa veya yeni isim rehberde varsa hata versin, eğer bir problem yoksa rehberdeki eski ismi yeni isim ile güncellesin \n",
        "- Numara güncelle: isim ve yeni numara olmak üzere iki tane parametre alsın, verilen ismin rehberde olup olmadığını kontrol etsin ve eğer varsa numarasını yeni numara ile güncellesin\n",
        "- Rastgele kişi seç: random.choice fonksiyonunu kullanarak rehberden bir isim seçsin ve seçilen ismi ve ona ait olan numarayı **döndürsün**.\n",
        "- Kişileri görüntüle: rehberdeki bütün kişilerin isimlerini ve numaralarını alt alta ve başlarında indeksler olacak şekilde yazdırsın.\n",
        "- Main: içerisinde bir while döngüsü oluşturun ve her turda menüyü yazdırın   \n",
        "menu = '''\n",
        "   _________________________\n",
        "  | 1: Kişi ekle            |\n",
        "  | 2: Kişi Sil             |\n",
        "  | 3: İsim Güncelle        |\n",
        "  | 4: Numara Güncelle      |\n",
        "  | 5: Rastgele Kişi Seç    | \n",
        "  | 6: Kişileri Görüntüle   |\n",
        "  | q: Çıkış Yap            |\n",
        "   _________________________\n",
        "  '''\n",
        "  ardından kullanıcıdan girdi olarak bir işlem seçmesini isteyin. Seçilen işleme göre eğer gerekiyorsa fonksiyon parametrelerini de kullanıcıdan girdi olarak alın ve gerekli fonksiyonları çağırın. Kullanıcı eğer \"q\" değerini girerse döngüyü bitirin.\n",
        "\n",
        "Girdi alırken veya çıktı verirken kullanıcı ile olan etkileşimi istediğiniz gibi sağlayabilirsiniz ve menüye istediğiniz kadar farklı seçenekler ekleyebilirsiniz.\n",
        "\n",
        "En sonda main fonksiyonunu çağırarak uygulamayı başlatın ve test edin.\n",
        "\n"
      ]
    },
    {
      "cell_type": "code",
      "metadata": {
        "id": "Gs7hMdvtAB8c"
      },
      "source": [
        "import random\n",
        "\n",
        "rehber = {}\n",
        "\n",
        "def kisi_ekle(isim, numara):\n",
        "  global rehber\n",
        "  if not isim in rehber.keys():\n",
        "    rehber[isim] = numara\n",
        "    print(\"Yeni kişi eklendi\")\n",
        "  else: print(\"Böyle Bir Kişi Var\")\n",
        "\n",
        "def kisi_sil(isim):\n",
        "  global rehber\n",
        "  try:\n",
        "    del rehber[isim]\n",
        "    print(\"Kişi Silindi\")\n",
        "  except KeyError:\n",
        "    print(\"Kişi Bulunamadı\")\n",
        "\n",
        "def isim_guncelle(isim, yeni_isim):\n",
        "  global rehber\n",
        "  if isim in rehber.keys():\n",
        "    if not yeni_isim in rehber.keys():\n",
        "      rehber[yeni_isim] = rehber[isim]\n",
        "      del rehber[isim]\n",
        "      print(\"İsim Güncellendi\")\n",
        "    else: print(\"Yeni İsimde Bir Kullanıcı Mevcut\")\n",
        "  else: print(\"Kişi Bulunamadı\")\n",
        "\n",
        "def numara_guncelle(isim,yeni_numara):\n",
        "  global rehber\n",
        "  if isim in rehber.keys():\n",
        "      rehber[isim] = yeni_numara\n",
        "      print(\"Numara Güncellendi\")\n",
        "  else: print(\"Kişi Bulunamadı\")\n",
        "\n",
        "def rastgele_kisi_sec():\n",
        "  isim = random.choice(list(rehber.keys()))\n",
        "  return isim, rehber[isim]\n",
        "\n",
        "def kisileri_goruntule():\n",
        "  global rehber\n",
        "  if not len(rehber) == 0:\n",
        "    print(\"Rehber:\\n\")\n",
        "    i = 1\n",
        "    for key,value in rehber.items():\n",
        "      print(f\"{i})\\n\\tİsim: {key}\\n\\tNumara: {value}\")\n",
        "      i += 1\n",
        "    return\n",
        "  print(\"Rehber Boş\")\n",
        "\n",
        "def main():\n",
        "  global rehber\n",
        "  menu = '''\n",
        "   _________________________\n",
        "  | 1: Kişi ekle            |\n",
        "  | 2: Kişi Sil             |\n",
        "  | 3: İsim Güncelle        |\n",
        "  | 4: Numara Güncelle      |\n",
        "  | 5: Rastgele Kişi Seç    | \n",
        "  | 6: Kişileri Görüntüle   |\n",
        "  | q: Çıkış Yap            |\n",
        "   _________________________\n",
        "  '''\n",
        "  print(menu)\n",
        "  while True:\n",
        "    secim = input(\"Lütfen seçim yapınız: \")\n",
        "    print(\"*\"*50+\"\\n\")\n",
        "    if secim == \"1\":\n",
        "      isim = input(\"Yeni kişi ismi giriniz: \")\n",
        "      numara = input(\"Numarayı giriniz: \")\n",
        "      kisi_ekle(isim,numara)\n",
        "\n",
        "    elif secim == \"2\":\n",
        "      isim = input(\"Silmek istediğiniz kişinin ismini giriniz: \")\n",
        "      kisi_sil(isim)\n",
        "\n",
        "    elif secim == \"3\":\n",
        "      isim = input(\"Değiştirmek istediğiniz ismi giriniz: \")\n",
        "      yeni_isim = input(\"Yeni ismi giriniz: \")\n",
        "      isim_guncelle(isim,yeni_isim)\n",
        "\n",
        "    elif secim == \"4\":\n",
        "      isim = input(\"Numarasını değiştirmek istediğiniz kişinin ismini giriniz: \")\n",
        "      yeni_numara = input(\"Yeni numarayı giriniz: \")\n",
        "      numara_guncelle(isim,yeni_numara)\n",
        "    \n",
        "    elif secim == \"5\":\n",
        "      isim, numara = rastgele_kisi_sec()\n",
        "      print(f\"\\n\\tİsim: {isim}\\n\\tNumara: {numara}\")\n",
        "    \n",
        "    elif secim == \"6\":\n",
        "      kisileri_goruntule()\n",
        "    \n",
        "    elif secim == \"q\":\n",
        "      break\n",
        "    \n",
        "    else: print(\"Geçersiz seçim yaptınız. Lütfen tekrar deneyiniz\")\n",
        "    print(menu)\n",
        "\n",
        "main()"
      ],
      "execution_count": null,
      "outputs": []
    }
  ]
}