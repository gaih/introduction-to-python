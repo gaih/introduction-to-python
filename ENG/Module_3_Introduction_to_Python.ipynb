{
  "nbformat": 4,
  "nbformat_minor": 0,
  "metadata": {
    "colab": {
      "name": "Module_3_Introduction_to_Python.ipynb",
      "provenance": [],
      "collapsed_sections": []
    },
    "kernelspec": {
      "display_name": "Python 3",
      "language": "python",
      "name": "python3"
    },
    "language_info": {
      "codemirror_mode": {
        "name": "ipython",
        "version": 3
      },
      "file_extension": ".py",
      "mimetype": "text/x-python",
      "name": "python",
      "nbconvert_exporter": "python",
      "pygments_lexer": "ipython3",
      "version": "3.9.5"
    }
  },
  "cells": [
    {
      "cell_type": "markdown",
      "metadata": {
        "id": "q7dhkh67Fy1s"
      },
      "source": [
        "# Functions\n",
        "\n",
        "Functions are a very important concept and they are available in all programming languages. Functions allow us to define an action (code block). So far, Python-provided print, input, len, etc. We were using some built-in functions like Now it's time to create one."
      ]
    },
    {
      "cell_type": "code",
      "metadata": {
        "id": "2ZOXnE2aFy1s",
        "scrolled": true,
        "outputId": "a9117738-a8ea-416e-eee8-30a3e7a562d2"
      },
      "source": [
        "def blow_fire(): # We are defining our function\n",
        "    print('fire 🔥 🔥 🔥')\n",
        "\n",
        "blow_fire() # We are calling the function\n",
        "blow_fire() # We can call functions as much as we want\n"
      ],
      "execution_count": null,
      "outputs": [
        {
          "output_type": "stream",
          "text": [
            "fire 🔥 🔥 🔥\n",
            "fire 🔥 🔥 🔥\n"
          ],
          "name": "stdout"
        }
      ]
    },
    {
      "cell_type": "markdown",
      "metadata": {
        "id": "_tiM_9YmFy1t"
      },
      "source": [
        "## 4.1 Arguments and Parameters\n",
        "\n",
        "The above function was a bit cool, but it has some limitations as well. It can only perform the same action. Let's make it more extensible and pass some data to it so it can perform actions as it wants"
      ]
    },
    {
      "cell_type": "code",
      "metadata": {
        "id": "e7t4WvcqFy1t",
        "outputId": "633cabc9-8e73-4fe3-917e-832f31ef99a7"
      },
      "source": [
        "def blower(name, emoji): # parameters\n",
        "    print(f'{name} {emoji} {emoji} {emoji}')\n",
        "\n",
        "blower('fire', '🔥') # arguments\n",
        "blower('water', '🌊')"
      ],
      "execution_count": null,
      "outputs": [
        {
          "output_type": "stream",
          "text": [
            "fire 🔥 🔥 🔥\n",
            "water 🌊 🌊 🌊\n"
          ],
          "name": "stdout"
        }
      ]
    },
    {
      "cell_type": "markdown",
      "metadata": {
        "id": "8hchECTmFy1t"
      },
      "source": [
        "## 4.2 return\n",
        "\n",
        "return is a keyword used in Python to return a value from a function. To make functions more useful, they should return a value based on evaluating an expression. If no return statement is specified, or if the expression of the return statement is not treated as a data type, the function returns None.\n",
        "\n",
        "The return statement terminates and exits the function."
      ]
    },
    {
      "cell_type": "code",
      "metadata": {
        "id": "yqgevVejFy1t",
        "outputId": "2cffb420-a2f6-4e44-a7a8-d65bef711d40"
      },
      "source": [
        "def multiplier(num1, num2):\n",
        "    return num1 * num2\n",
        "\n",
        "result = multiplier(2,3)\n",
        "print(result) # 6"
      ],
      "execution_count": null,
      "outputs": [
        {
          "output_type": "stream",
          "text": [
            "6\n"
          ],
          "name": "stdout"
        }
      ]
    },
    {
      "cell_type": "code",
      "metadata": {
        "id": "WMJNdqRZFy1u",
        "scrolled": true
      },
      "source": [
        "def sum(num1):\n",
        "    def child(num2):\n",
        "        return num1 + num2\n",
        "    return child"
      ],
      "execution_count": null,
      "outputs": []
    },
    {
      "cell_type": "code",
      "metadata": {
        "id": "xgm7Qnz5Fy1u"
      },
      "source": [
        "add_10 = sum(10)"
      ],
      "execution_count": null,
      "outputs": []
    },
    {
      "cell_type": "code",
      "metadata": {
        "id": "apd521hBFy1u",
        "outputId": "4290ebb0-876c-4ced-e52e-32af29505407"
      },
      "source": [
        "print(add_10(20)) # 30  (Closure!!!)\n",
        "print(add_10(50)) # 60\n",
        "print(add_10(100)) # 110"
      ],
      "execution_count": null,
      "outputs": [
        {
          "output_type": "stream",
          "text": [
            "30\n",
            "60\n",
            "110\n"
          ],
          "name": "stdout"
        }
      ]
    },
    {
      "cell_type": "markdown",
      "metadata": {
        "id": "qDFq1N_9Pr3R"
      },
      "source": [
        "### Examples"
      ]
    },
    {
      "cell_type": "markdown",
      "metadata": {
        "id": "pqogNsBfP_g1"
      },
      "source": [
        "Function example that has single return"
      ]
    },
    {
      "cell_type": "code",
      "metadata": {
        "id": "NqTXF_8kPrsR"
      },
      "source": [
        "def summ(a, b):\n",
        "  value = a + b\n",
        "  return value"
      ],
      "execution_count": null,
      "outputs": []
    },
    {
      "cell_type": "code",
      "metadata": {
        "colab": {
          "base_uri": "https://localhost:8080/"
        },
        "id": "_CAsffx0P1TI",
        "outputId": "6b277115-fa17-41a2-b43d-d359da22a440"
      },
      "source": [
        "sonuc = summ(6.0,7.5)\n",
        "print(sonuc)"
      ],
      "execution_count": null,
      "outputs": [
        {
          "output_type": "stream",
          "text": [
            "13.5\n"
          ],
          "name": "stdout"
        }
      ]
    },
    {
      "cell_type": "markdown",
      "metadata": {
        "id": "qXT-QjaFQDFA"
      },
      "source": [
        "Functions can return multiple values"
      ]
    },
    {
      "cell_type": "code",
      "metadata": {
        "id": "2k7Fj3wDQGS9"
      },
      "source": [
        "def func(x,y):\n",
        "  summ = x + y\n",
        "  multip = x * y\n",
        "  return (summ, multip)"
      ],
      "execution_count": null,
      "outputs": []
    },
    {
      "cell_type": "code",
      "metadata": {
        "colab": {
          "base_uri": "https://localhost:8080/"
        },
        "id": "HMWmEGW2QJZq",
        "outputId": "e506f795-3bfa-4a6d-8d41-1bc83906a152"
      },
      "source": [
        "summation, multiplication = func(23,45)\n",
        "\n",
        "print(summation, multiplication)"
      ],
      "execution_count": null,
      "outputs": [
        {
          "output_type": "stream",
          "text": [
            "68 1035\n"
          ],
          "name": "stdout"
        }
      ]
    },
    {
      "cell_type": "markdown",
      "metadata": {
        "id": "U1Ifuv5lQRTj"
      },
      "source": [
        "Functions can be combined with conditional statements and loops"
      ]
    },
    {
      "cell_type": "code",
      "metadata": {
        "id": "1poo3uyCQUds"
      },
      "source": [
        "def func(x):\n",
        "  if x > 0:\n",
        "    return (\"Positive\")\n",
        "\n",
        "  elif x < 0:\n",
        "    return (\"Negative\")\n",
        "    \n",
        "  else:\n",
        "    return (\"Zero\")"
      ],
      "execution_count": null,
      "outputs": []
    },
    {
      "cell_type": "code",
      "metadata": {
        "colab": {
          "base_uri": "https://localhost:8080/"
        },
        "id": "vcqhsM0bQXtc",
        "outputId": "c2335250-f0fb-4970-eff8-61fd0c4b3a63"
      },
      "source": [
        "for i in [-2, 5, 6, 0, -4, -7]:\n",
        "  print(func(i))"
      ],
      "execution_count": null,
      "outputs": [
        {
          "output_type": "stream",
          "text": [
            "Negative\n",
            "Positive\n",
            "Positive\n",
            "Zero\n",
            "Negative\n",
            "Negative\n"
          ],
          "name": "stdout"
        }
      ]
    },
    {
      "cell_type": "markdown",
      "metadata": {
        "id": "BAEcEf-CQe3n"
      },
      "source": [
        "### Factorial Calculation Example"
      ]
    },
    {
      "cell_type": "code",
      "metadata": {
        "id": "1M6-P8KFQiJZ"
      },
      "source": [
        "#factorial calculation\n",
        "#0! = 1\n",
        "#1!= 1\n",
        "#2!= 2 * 1 =2\n",
        "#6! = 6 * 5* 4 *3 * 2 *1 = 720\n",
        "\n",
        "def factorial(num):\n",
        "    \n",
        "    factorial = 1\n",
        "    if (num == 0 or num == 1):\n",
        "        print(\"Factorial: \", factorial)\n",
        "        \n",
        "    else:\n",
        "        while (num >= 1):\n",
        "            factorial = factorial * num\n",
        "            num -= 1\n",
        "            \n",
        "    print(\"Factorial: \", factorial)"
      ],
      "execution_count": null,
      "outputs": []
    },
    {
      "cell_type": "code",
      "metadata": {
        "colab": {
          "base_uri": "https://localhost:8080/"
        },
        "id": "hyzTQkqrQmZR",
        "outputId": "e7bcefe7-910a-497c-9a02-55c31a4e73ab"
      },
      "source": [
        "factorial(5)"
      ],
      "execution_count": null,
      "outputs": [
        {
          "output_type": "stream",
          "text": [
            "Factorial:  120\n"
          ],
          "name": "stdout"
        }
      ]
    },
    {
      "cell_type": "markdown",
      "metadata": {
        "id": "qyuq5dSOQsrR"
      },
      "source": [
        "Other methods can be used in functions"
      ]
    },
    {
      "cell_type": "code",
      "metadata": {
        "id": "erNMKGGKQvwj"
      },
      "source": [
        "def hello2(name, capLetter = False):\n",
        "\n",
        "    if capLetter:\n",
        "        print(\"Hello \" + name.upper())\n",
        "    \n",
        "    else:\n",
        "        print(\"Hello \" + name)"
      ],
      "execution_count": null,
      "outputs": []
    },
    {
      "cell_type": "code",
      "metadata": {
        "colab": {
          "base_uri": "https://localhost:8080/"
        },
        "id": "XmpF-rGuQzOn",
        "outputId": "5fe32b9e-003a-4c89-9748-5e104a5e0730"
      },
      "source": [
        "hello2(\"asli\")"
      ],
      "execution_count": null,
      "outputs": [
        {
          "output_type": "stream",
          "text": [
            "Hello asli\n"
          ],
          "name": "stdout"
        }
      ]
    },
    {
      "cell_type": "code",
      "metadata": {
        "colab": {
          "base_uri": "https://localhost:8080/"
        },
        "id": "6iONCcj3Q1Wb",
        "outputId": "d9b7b1d4-79bd-4d26-dcd3-0485254d119d"
      },
      "source": [
        "hello2(\"Asli\", capLetter= True)"
      ],
      "execution_count": null,
      "outputs": [
        {
          "output_type": "stream",
          "text": [
            "Hello ASLI\n"
          ],
          "name": "stdout"
        }
      ]
    },
    {
      "cell_type": "markdown",
      "metadata": {
        "id": "sw36UHJtFy1u"
      },
      "source": [
        "## 4.3 Scope\n",
        "\n",
        "Simply put, it means **\"Which variables do I have access to?\"**. This is the kind of question the interpreter asks when reading code to find the scope of variables. Variables in Python have function scope, which means that variables defined inside a function cannot be accessed from outside the function."
      ]
    },
    {
      "cell_type": "code",
      "metadata": {
        "id": "ZslCONDuFy1u",
        "scrolled": true
      },
      "source": [
        "num = 1\n",
        "\n",
        "def confusing_function():\n",
        "    \n",
        "    num = 10\n",
        "    return num"
      ],
      "execution_count": null,
      "outputs": []
    },
    {
      "cell_type": "code",
      "metadata": {
        "id": "x-QTA3lbFy1v",
        "outputId": "582fac13-906b-4356-d7a2-9c8a22d76b2f"
      },
      "source": [
        "print(num) # 1 => Global Scope\n",
        "print(confusing_function()) # 10 => Local Scope"
      ],
      "execution_count": null,
      "outputs": [
        {
          "output_type": "stream",
          "text": [
            "1\n",
            "10\n"
          ],
          "name": "stdout"
        }
      ]
    },
    {
      "cell_type": "markdown",
      "metadata": {
        "id": "CWf35HmwFy1v"
      },
      "source": [
        "**The scope rules that the Python interpreter follows are:**\n",
        "\n",
        "- Start with local. Is the variable available? Then get the value. If not, continue\n",
        "- Is the variable defined in the local scope of the main function? Return the value if any, otherwise continue\n",
        "- Does the variable exist in the global scope? Return the value if any, otherwise continue\n",
        "- Is the variable a built-in function? Return the value, otherwise the output"
      ]
    },
    {
      "cell_type": "markdown",
      "metadata": {
        "id": "hqiueftBQ9Z_"
      },
      "source": [
        "### Lambda Fonksiyonlar"
      ]
    },
    {
      "cell_type": "code",
      "metadata": {
        "colab": {
          "base_uri": "https://localhost:8080/"
        },
        "id": "6TkphRWBQ-8M",
        "outputId": "52111f9f-951f-4a6d-913f-5473f29ded9b"
      },
      "source": [
        "#lambda function\n",
        "(lambda x: x + 1)(2)"
      ],
      "execution_count": null,
      "outputs": [
        {
          "output_type": "execute_result",
          "data": {
            "text/plain": [
              "3"
            ]
          },
          "metadata": {
            "tags": []
          },
          "execution_count": 15
        }
      ]
    },
    {
      "cell_type": "code",
      "metadata": {
        "colab": {
          "base_uri": "https://localhost:8080/",
          "height": 35
        },
        "id": "L2x_LKm5RAMy",
        "outputId": "a5f8cf71-df93-4b8b-cda1-9bb2cc5fddaa"
      },
      "source": [
        "full_name = lambda first, last: f'Full name: {first.title()} {last.title()}'\n",
        "full_name('guido', 'van rossum')"
      ],
      "execution_count": null,
      "outputs": [
        {
          "output_type": "execute_result",
          "data": {
            "application/vnd.google.colaboratory.intrinsic+json": {
              "type": "string"
            },
            "text/plain": [
              "'Full name: Guido Van Rossum'"
            ]
          },
          "metadata": {
            "tags": []
          },
          "execution_count": 16
        }
      ]
    },
    {
      "cell_type": "markdown",
      "metadata": {
        "id": "Hgq6Gt61Y-b4"
      },
      "source": [
        "## 4.4 Moduller"
      ]
    },
    {
      "cell_type": "code",
      "metadata": {
        "id": "ZwhwBEdLY_HR"
      },
      "source": [
        "words = [\"artificial\",\"intelligence\",\"machine\",\"learning\",\"python\",\"programming\"]\n",
        "\n",
        "\n",
        "#from random import *\n",
        "import random as rnd\n",
        "\n",
        "def randomWord(words):\n",
        "    index = rnd.randint(0, len(words)-1)\n",
        "    return words[index]\n",
        "  "
      ],
      "execution_count": null,
      "outputs": []
    },
    {
      "cell_type": "code",
      "metadata": {
        "id": "rg4WG8obZJAE"
      },
      "source": [
        "len(words)"
      ],
      "execution_count": null,
      "outputs": []
    },
    {
      "cell_type": "code",
      "metadata": {
        "id": "TSYLKfr3ZMEP"
      },
      "source": [
        "word = randomWord(words)\n",
        "print(word)"
      ],
      "execution_count": null,
      "outputs": []
    },
    {
      "cell_type": "markdown",
      "metadata": {
        "id": "3uarilP0ZOdQ"
      },
      "source": [
        "## 4.5 Methods"
      ]
    },
    {
      "cell_type": "markdown",
      "metadata": {
        "id": "4JzGqpMwZT6n"
      },
      "source": [
        "## Metodlar\n",
        "\n",
        "Functions are called by name, can be enclosed in parameters, and optionally the resulting value can be used outside the function.\n",
        "Methods are also named by name, similar to functions in many ways, but the call is performed through an object such as a String or list.\n",
        "\n",
        "object.methodName(parameter)"
      ]
    },
    {
      "cell_type": "code",
      "metadata": {
        "id": "sUnXe_GVZeBx"
      },
      "source": [
        "s = input(\"Please enter a name: \")\n",
        "\n",
        "print(s.upper())"
      ],
      "execution_count": null,
      "outputs": []
    },
    {
      "cell_type": "markdown",
      "metadata": {
        "id": "jQJEl4kcZn1n"
      },
      "source": [
        "# Exceptions \n",
        "\n",
        "* Programmer Errors \n",
        "* Program Bugs \n",
        "* Exceptions"
      ]
    },
    {
      "cell_type": "code",
      "metadata": {
        "id": "5d2l2YVgZoD4"
      },
      "source": [
        "# error example,SyntaxError.\n",
        "\n",
        "print \"Hello World!\"   "
      ],
      "execution_count": null,
      "outputs": []
    },
    {
      "cell_type": "code",
      "metadata": {
        "id": "qnXbYAmjZreT"
      },
      "source": [
        "#bug example.\n",
        "\n",
        "num1 = input(\"Enter the first integer: \")\n",
        "num2 = input(\"Enter the second integer: \")\n",
        "\n",
        "print(num1, \"+\", num2, \"=\", num1 + num2)\n"
      ],
      "execution_count": null,
      "outputs": []
    },
    {
      "cell_type": "code",
      "metadata": {
        "id": "L2m33VggZtWn"
      },
      "source": [
        "# ZeroDivisionError.\n",
        "\n",
        "\n",
        "num3 = int(input(\"First integer: \"))\n",
        "num4 = int(input(\"Second integer: \"))\n",
        "\n",
        "print(num3, \"/\",num4, \"=\", num3/num4)"
      ],
      "execution_count": null,
      "outputs": []
    },
    {
      "cell_type": "markdown",
      "metadata": {
        "id": "Stcay0lvZtQL"
      },
      "source": [
        "## Exception Handling\n",
        "\n",
        "\n",
        "try:\n",
        "\n",
        "\n",
        "> the situations where we can get exceptions\n",
        "\n",
        "except \"Exception Name\":\n",
        "\n",
        "\n",
        "> the operations in case of exceptions\n",
        "\n",
        "\n",
        "\n"
      ]
    },
    {
      "cell_type": "code",
      "metadata": {
        "id": "iWaawuLrZx74"
      },
      "source": [
        "x = \"Alan Turing\"\n",
        "\n",
        "int(x)"
      ],
      "execution_count": null,
      "outputs": []
    },
    {
      "cell_type": "code",
      "metadata": {
        "id": "MNQaIOpvZ2YM"
      },
      "source": [
        "try:\n",
        "    int(x)\n",
        "\n",
        "except ValueError:\n",
        "    print(\"Please enter an integer value!!!\")"
      ],
      "execution_count": null,
      "outputs": []
    },
    {
      "cell_type": "code",
      "metadata": {
        "id": "MM66D0IHZ2PJ"
      },
      "source": [
        "num3 = input(\"First integer: \")\n",
        "num4 = input(\"Second integer: \")\n",
        "\n",
        "try:\n",
        "    num3_int = int(num3)\n",
        "    num4_int = int(num4)\n",
        "\n",
        "    print(num3_int, \"/\",num4_int, \"=\", num3_int/num4_int)\n",
        "\n",
        "except ValueError:\n",
        "    print(\"Please enter an integer value!!!\")"
      ],
      "execution_count": null,
      "outputs": []
    },
    {
      "cell_type": "code",
      "metadata": {
        "id": "f4BaeeS1Z6r1"
      },
      "source": [
        "#exception handling in loop structure\n",
        "\n",
        "\n",
        "while True:\n",
        "    num1 = input(\"First number: (Press q for quit the program): \")\n",
        "\n",
        "    if num1 == \"q\":\n",
        "        break\n",
        "\n",
        "    num2 = input(\"Second number: \")\n",
        "\n",
        "    try:\n",
        "        num1_int = int(num1)\n",
        "        num2_int = int(num2)\n",
        "        print(num1_int, \"/\", num2_int, \"=\", num1_int / num2_int)\n",
        "    except (ValueError, ZeroDivisionError):\n",
        "        print(\"Error!\")\n",
        "        print(\"Please try again!\")"
      ],
      "execution_count": null,
      "outputs": []
    },
    {
      "cell_type": "markdown",
      "metadata": {
        "id": "spdXO3A_AZQO"
      },
      "source": [
        "### Project: Contacts App\n",
        "Create a global variable named Contacts.\n",
        "Define 7 functions: add contact, delete contact, update name, update number, choose random contact, view contacts and main.\n",
        "- Add contact: take name and number as parameters and if the given name is not in the contacts, add a value in the form of key = name, value = number\n",
        "- Delete contact: take a name as a parameter and delete it with exception handling. If the name is in the contacts, delete it otherwise print an output to the user that it could not be found\n",
        "- Update name: take two parameters, old and new name, give an error if the old name is not in the contacts or if the new name is in the contacts, if there is no problem, update the old name in the contacts with the new name\n",
        "- Update number: take two parameters, name and new number, check if the given name is in the contacts and update the number with the new number, if any\n",
        "- Choose a random contact: choose a name from the contacts using the random.choice function and **return** the selected name and its corresponding number.\n",
        "- View contacts: print the names and numbers of all contacts, one after the other, with indexes at the beginning.\n",
        "- Main: create a while loop in it and print the menu at each round\n",
        "menu = ''''\n",
        "   ________________________\n",
        "  | 1: Add contact        |\n",
        "\n",
        "  | 2: Delete Contact     |\n",
        "\n",
        "  | 3: Update Name        |\n",
        "\n",
        "  | 4: Update Number      |\n",
        "\n",
        "  | 5: Pick Random Person |\n",
        "\n",
        "  | 6: View Contacts      |\n",
        "  \n",
        "  | q: Sign Out           |\n",
        "   _________________________\n",
        "  ''''\n",
        "then ask the user to select an action as input. According to the selected operation, if necessary, take the function parameters as input from the user and call the necessary functions. If the user enters the value \"q\", end the loop.\n",
        "\n",
        "You can provide the interaction with the user as you want while taking inputs or outputs, and you can add as many different options as you want to the menu.\n",
        "\n",
        "Finally, start and test the application by calling the main function."
      ]
    },
    {
      "cell_type": "code",
      "metadata": {
        "id": "Gs7hMdvtAB8c"
      },
      "source": [
        "import random\n",
        "\n",
        "contacts = {}\n",
        "\n",
        "def add_contact(name, number):\n",
        "  global contacts\n",
        "  if not name in contacts.keys():\n",
        "    contacts[name] = number\n",
        "    print(\"New person has been added\")\n",
        "  else: print(\"There is such a person!\")\n",
        "\n",
        "def delete_contact(name):\n",
        "  global contacts\n",
        "  try:\n",
        "    del contacts[name]\n",
        "    print(\"Person has been deleted!\")\n",
        "  except KeyError:\n",
        "    print(\"There is such a person!\")\n",
        "\n",
        "def edit_contact(name, new_name):\n",
        "  global contacts\n",
        "  if name in contacts.keys():\n",
        "    if not new_name in contacts.keys():\n",
        "      contacts[new_name] = contacts[name]\n",
        "      del contacts[name]\n",
        "      print(\"Name has been updated\")\n",
        "    else: print(f\"There is such a user named {new_user}\")\n",
        "  else: print(\"There is such a person!\")\n",
        "\n",
        "def edit_number(name, new_number):\n",
        "  global contacts\n",
        "  if name in contacts.keys():\n",
        "      contacts[name] = new_number\n",
        "      print(\"Number has been updated!\")\n",
        "  else: print(\"There is such a person!\")\n",
        "\n",
        "def pick_random_person():\n",
        "  name = random.choice(list(contacts.keys()))\n",
        "  return name, contacts[name]\n",
        "\n",
        "def view_contacts():\n",
        "  global contacts\n",
        "  if not len(contacts) == 0:\n",
        "    print(\"Contacts:\\n\")\n",
        "    i = 1\n",
        "    for key,value in contacts.items():\n",
        "      print(f\"{i})\\n\\tName: {key}\\n\\tNumber: {value}\")\n",
        "      i += 1\n",
        "    return\n",
        "  print(\"Contacts are empty\")\n",
        "\n",
        "def main():\n",
        "  global contacts\n",
        "  menu = '''\n",
        "   _________________________\n",
        "  | 1: Add Contact         |\n",
        "  | 2: Delete Contact      |\n",
        "  | 3: Edit Contact        |\n",
        "  | 4: Edit Number         |\n",
        "  | 5: Pick Random Person  | \n",
        "  | 6: View Contacts       |\n",
        "  | q: Sign Out            |\n",
        "   _________________________\n",
        "  '''\n",
        "  print(menu)\n",
        "  while True:\n",
        "    choice = input(\"Please choose: \")\n",
        "    print(\"*\"*50+\"\\n\")\n",
        "    if choice == \"1\":\n",
        "      name = input(\"Enter new name: \")\n",
        "      number = input(\"Enter number: \")\n",
        "      add_contact(name, number)\n",
        "\n",
        "    elif choice == \"2\":\n",
        "      name = input(\"Enter the name you want to delete: \")\n",
        "      delete_contact(name)\n",
        "\n",
        "    elif choice == \"3\":\n",
        "      name = input(\"Enter the name you want to change: \")\n",
        "      new_name = input(\"Enter new name: \")\n",
        "      edit_contact(name, new_name)\n",
        "\n",
        "    elif choice == \"4\":\n",
        "      name = input(\"Enter the name that you want to change its number: \")\n",
        "      new_number = input(\"Enter new number: \")\n",
        "      edit_number(name, new_number)\n",
        "    \n",
        "    elif choice == \"5\":\n",
        "      name, number = pick_random_person()\n",
        "      print(f\"\\n\\tName: {name}\\n\\tNumber: {number}\")\n",
        "    \n",
        "    elif choice == \"6\":\n",
        "      view_contacts()\n",
        "    \n",
        "    elif choice == \"q\":\n",
        "      break\n",
        "    \n",
        "    else: print(\"You have made an invalid choice. Please try again!\")\n",
        "    print(menu)\n",
        "\n",
        "main()"
      ],
      "execution_count": null,
      "outputs": []
    }
  ]
}