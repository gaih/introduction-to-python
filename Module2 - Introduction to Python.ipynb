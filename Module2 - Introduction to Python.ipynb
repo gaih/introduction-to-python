{
 "cells": [
  {
   "cell_type": "markdown",
   "metadata": {
    "id": "q7dhkh67Fy1s"
   },
   "source": [
    "# 4. Fonksiyonlar\n",
    "\n",
    "Fonksiyonlar çok önemli bir kavramdır ve tüm programlama dillerinde mevcutturlar. Fonksiyonlar, bir eylemi (kod bloğu) tanımlamamıza  izin verir. Şimdiye kadar, Python tarafından sağlanan print, input, len vb. Gibi bazı yerleşik işlevleri kullanıyorduk. Şimdi bir tane oluşturma zamanı."
   ]
  },
  {
   "cell_type": "code",
   "execution_count": null,
   "metadata": {
    "id": "2ZOXnE2aFy1s",
    "outputId": "a9117738-a8ea-416e-eee8-30a3e7a562d2",
    "scrolled": true
   },
   "outputs": [
    {
     "name": "stdout",
     "output_type": "stream",
     "text": [
      "fire 🔥 🔥 🔥\n",
      "fire 🔥 🔥 🔥\n"
     ]
    }
   ],
   "source": [
    "def blow_fire(): # Burası fonksiyonu tanımladığımız yer\n",
    "    print('fire 🔥 🔥 🔥')\n",
    "\n",
    "blow_fire() # Burada fonksiyonu çağırmak için çağırıyoruz\n",
    "blow_fire() # İstediğimiz kadar çağırabiliriz\n"
   ]
  },
  {
   "cell_type": "markdown",
   "metadata": {
    "id": "_tiM_9YmFy1t"
   },
   "source": [
    "## 4.1 Argümanlar ve Parametreler (Arguments and Parameters)\n",
    "\n",
    "Yukarıdaki işlev biraz havalıydı, ancak bazı sınırlamaları da var. Yalnızca aynı eylemi gerçekleştirebilir. Daha genişletilebilir hale getirelim ve ona bazı veriler aktararak istediği gibi eylemler gerçekleştirmesini sağlayalım"
   ]
  },
  {
   "cell_type": "code",
   "execution_count": null,
   "metadata": {
    "id": "e7t4WvcqFy1t",
    "outputId": "633cabc9-8e73-4fe3-917e-832f31ef99a7"
   },
   "outputs": [
    {
     "name": "stdout",
     "output_type": "stream",
     "text": [
      "fire 🔥 🔥 🔥\n",
      "water 🌊 🌊 🌊\n"
     ]
    }
   ],
   "source": [
    "def blower(name, emoji): # parameterler\n",
    "    print(f'{name} {emoji} {emoji} {emoji}')\n",
    "\n",
    "blower('fire', '🔥') # argümanlar\n",
    "blower('water', '🌊')"
   ]
  },
  {
   "cell_type": "markdown",
   "metadata": {
    "id": "8hchECTmFy1t"
   },
   "source": [
    "## 4.2 return\n",
    "\n",
    "return, Python'da bir işlevden bir değer döndürmek için kullanılan bir anahtar sözcüktür. İşlevleri daha kullanışlı hale getirmek için, bir ifadeyi değerlendirmeye dayalı olarak bir değer döndürmesi gerekir. Herhangi bir return ifadesi belirtilmezse veya return ifadesinin ifadesi bir veri türü olarak değerlendirilmezse, işlev None döndürür. \n",
    "\n",
    "return ifadesi işlevi sonlandırır ve işlevden çıkar."
   ]
  },
  {
   "cell_type": "code",
   "execution_count": null,
   "metadata": {
    "id": "yqgevVejFy1t",
    "outputId": "2cffb420-a2f6-4e44-a7a8-d65bef711d40"
   },
   "outputs": [
    {
     "name": "stdout",
     "output_type": "stream",
     "text": [
      "6\n"
     ]
    }
   ],
   "source": [
    "def multiplier(num1, num2):\n",
    "    return num1 * num2\n",
    "\n",
    "result = multiplier(2,3)\n",
    "print(result) # 6"
   ]
  },
  {
   "cell_type": "markdown",
   "metadata": {
    "id": "BzOFS4ZJFy1u"
   },
   "source": [
    "Return ifadesini kullanarak havalı bir şeyler yapma zamanı."
   ]
  },
  {
   "cell_type": "code",
   "execution_count": null,
   "metadata": {
    "id": "WMJNdqRZFy1u",
    "scrolled": true
   },
   "outputs": [],
   "source": [
    "def sum(num1):\n",
    "    def child(num2):\n",
    "        return num1 + num2\n",
    "    return child"
   ]
  },
  {
   "cell_type": "code",
   "execution_count": null,
   "metadata": {
    "id": "xgm7Qnz5Fy1u"
   },
   "outputs": [],
   "source": [
    "add_10 = sum(10)"
   ]
  },
  {
   "cell_type": "code",
   "execution_count": null,
   "metadata": {
    "id": "apd521hBFy1u",
    "outputId": "4290ebb0-876c-4ced-e52e-32af29505407"
   },
   "outputs": [
    {
     "name": "stdout",
     "output_type": "stream",
     "text": [
      "30\n",
      "60\n",
      "110\n"
     ]
    }
   ],
   "source": [
    "print(add_10(20)) # 30  (Closure!!!)\n",
    "print(add_10(50)) # 60\n",
    "print(add_10(100)) # 110"
   ]
  },
  {
   "cell_type": "markdown",
   "metadata": {
    "id": "qDFq1N_9Pr3R"
   },
   "source": [
    "### Ornekler"
   ]
  },
  {
   "cell_type": "markdown",
   "metadata": {
    "id": "pqogNsBfP_g1"
   },
   "source": [
    "Tek return olan bir fonksiyon ornegi"
   ]
  },
  {
   "cell_type": "code",
   "execution_count": 1,
   "metadata": {
    "executionInfo": {
     "elapsed": 8,
     "status": "ok",
     "timestamp": 1624021904042,
     "user": {
      "displayName": "Mert Çobanov",
      "photoUrl": "",
      "userId": "01762005122749554747"
     },
     "user_tz": -180
    },
    "id": "NqTXF_8kPrsR"
   },
   "outputs": [],
   "source": [
    "def summ(a, b):\n",
    "  value = a + b\n",
    "  return value"
   ]
  },
  {
   "cell_type": "code",
   "execution_count": 2,
   "metadata": {
    "colab": {
     "base_uri": "https://localhost:8080/"
    },
    "executionInfo": {
     "elapsed": 8,
     "status": "ok",
     "timestamp": 1624021904044,
     "user": {
      "displayName": "Mert Çobanov",
      "photoUrl": "",
      "userId": "01762005122749554747"
     },
     "user_tz": -180
    },
    "id": "_CAsffx0P1TI",
    "outputId": "6b277115-fa17-41a2-b43d-d359da22a440"
   },
   "outputs": [
    {
     "name": "stdout",
     "output_type": "stream",
     "text": [
      "13.5\n"
     ]
    }
   ],
   "source": [
    "sonuc = summ(6.0,7.5)\n",
    "print(sonuc)"
   ]
  },
  {
   "cell_type": "markdown",
   "metadata": {
    "id": "qXT-QjaFQDFA"
   },
   "source": [
    "Fonksiyonlar birden fazla deger de dondurebilirler"
   ]
  },
  {
   "cell_type": "code",
   "execution_count": 3,
   "metadata": {
    "executionInfo": {
     "elapsed": 6200,
     "status": "ok",
     "timestamp": 1624021964239,
     "user": {
      "displayName": "Mert Çobanov",
      "photoUrl": "",
      "userId": "01762005122749554747"
     },
     "user_tz": -180
    },
    "id": "2k7Fj3wDQGS9"
   },
   "outputs": [],
   "source": [
    "def func(x,y):\n",
    "  summ = x + y\n",
    "  multip = x * y\n",
    "  return (summ, multip)"
   ]
  },
  {
   "cell_type": "code",
   "execution_count": 4,
   "metadata": {
    "colab": {
     "base_uri": "https://localhost:8080/"
    },
    "executionInfo": {
     "elapsed": 278,
     "status": "ok",
     "timestamp": 1624021976573,
     "user": {
      "displayName": "Mert Çobanov",
      "photoUrl": "",
      "userId": "01762005122749554747"
     },
     "user_tz": -180
    },
    "id": "HMWmEGW2QJZq",
    "outputId": "e506f795-3bfa-4a6d-8d41-1bc83906a152"
   },
   "outputs": [
    {
     "name": "stdout",
     "output_type": "stream",
     "text": [
      "68 1035\n"
     ]
    }
   ],
   "source": [
    "toplam, carpim = func(23,45)\n",
    "\n",
    "print(toplam, carpim)"
   ]
  },
  {
   "cell_type": "markdown",
   "metadata": {
    "id": "U1Ifuv5lQRTj"
   },
   "source": [
    "Fonksiyonlar kosullu ifadeler veya donguler ile de birlestirilebilir"
   ]
  },
  {
   "cell_type": "code",
   "execution_count": 5,
   "metadata": {
    "executionInfo": {
     "elapsed": 371,
     "status": "ok",
     "timestamp": 1624022027681,
     "user": {
      "displayName": "Mert Çobanov",
      "photoUrl": "",
      "userId": "01762005122749554747"
     },
     "user_tz": -180
    },
    "id": "1poo3uyCQUds"
   },
   "outputs": [],
   "source": [
    "def func(x):\n",
    "  if x > 0:\n",
    "    return (\"Positive\")\n",
    "\n",
    "  elif x < 0:\n",
    "    return (\"Negative\")\n",
    "    \n",
    "  else:\n",
    "    return (\"Zero\")"
   ]
  },
  {
   "cell_type": "code",
   "execution_count": 6,
   "metadata": {
    "colab": {
     "base_uri": "https://localhost:8080/"
    },
    "executionInfo": {
     "elapsed": 4,
     "status": "ok",
     "timestamp": 1624022027682,
     "user": {
      "displayName": "Mert Çobanov",
      "photoUrl": "",
      "userId": "01762005122749554747"
     },
     "user_tz": -180
    },
    "id": "vcqhsM0bQXtc",
    "outputId": "c2335250-f0fb-4970-eff8-61fd0c4b3a63"
   },
   "outputs": [
    {
     "name": "stdout",
     "output_type": "stream",
     "text": [
      "Negative\n",
      "Positive\n",
      "Positive\n",
      "Zero\n",
      "Negative\n",
      "Negative\n"
     ]
    }
   ],
   "source": [
    "for i in [-2, 5, 6, 0, -4, -7]:\n",
    "  print(func(i))\n"
   ]
  },
  {
   "cell_type": "markdown",
   "metadata": {
    "id": "BAEcEf-CQe3n"
   },
   "source": [
    "### Ornek Faktoriyel Hesaplama"
   ]
  },
  {
   "cell_type": "code",
   "execution_count": 7,
   "metadata": {
    "executionInfo": {
     "elapsed": 314,
     "status": "ok",
     "timestamp": 1624022087574,
     "user": {
      "displayName": "Mert Çobanov",
      "photoUrl": "",
      "userId": "01762005122749554747"
     },
     "user_tz": -180
    },
    "id": "1M6-P8KFQiJZ"
   },
   "outputs": [],
   "source": [
    "#factorial calculation\n",
    "#0! = 1\n",
    "#1!= 1\n",
    "#2!= 2 * 1 =2\n",
    "#6! = 6 * 5* 4 *3 * 2 *1 = 720\n",
    "\n",
    "def factorial(num):\n",
    "    \n",
    "    factorial = 1\n",
    "    if (num == 0 or num == 1):\n",
    "        print(\"Factorial: \", factorial)\n",
    "        \n",
    "    else:\n",
    "        while (num >= 1):\n",
    "            factorial = factorial * num\n",
    "            num -= 1\n",
    "            \n",
    "    print(\"Factorial: \", factorial)"
   ]
  },
  {
   "cell_type": "code",
   "execution_count": 8,
   "metadata": {
    "colab": {
     "base_uri": "https://localhost:8080/"
    },
    "executionInfo": {
     "elapsed": 5,
     "status": "ok",
     "timestamp": 1624022088305,
     "user": {
      "displayName": "Mert Çobanov",
      "photoUrl": "",
      "userId": "01762005122749554747"
     },
     "user_tz": -180
    },
    "id": "hyzTQkqrQmZR",
    "outputId": "e7bcefe7-910a-497c-9a02-55c31a4e73ab"
   },
   "outputs": [
    {
     "name": "stdout",
     "output_type": "stream",
     "text": [
      "Factorial:  120\n"
     ]
    }
   ],
   "source": [
    "factorial(5)"
   ]
  },
  {
   "cell_type": "markdown",
   "metadata": {
    "id": "qyuq5dSOQsrR"
   },
   "source": [
    "Fonkisyonlarin icerisinde diger metodlar da kullanilabilir"
   ]
  },
  {
   "cell_type": "code",
   "execution_count": 9,
   "metadata": {
    "executionInfo": {
     "elapsed": 317,
     "status": "ok",
     "timestamp": 1624022147673,
     "user": {
      "displayName": "Mert Çobanov",
      "photoUrl": "",
      "userId": "01762005122749554747"
     },
     "user_tz": -180
    },
    "id": "erNMKGGKQvwj"
   },
   "outputs": [],
   "source": [
    "def hello2(name, capLetter = False):\n",
    "\n",
    "    if capLetter:\n",
    "        print(\"Hello \" + name.upper())\n",
    "    \n",
    "    else:\n",
    "        print(\"Hello \" + name)"
   ]
  },
  {
   "cell_type": "code",
   "execution_count": 13,
   "metadata": {
    "colab": {
     "base_uri": "https://localhost:8080/"
    },
    "executionInfo": {
     "elapsed": 387,
     "status": "ok",
     "timestamp": 1624022156456,
     "user": {
      "displayName": "Mert Çobanov",
      "photoUrl": "",
      "userId": "01762005122749554747"
     },
     "user_tz": -180
    },
    "id": "XmpF-rGuQzOn",
    "outputId": "5fe32b9e-003a-4c89-9748-5e104a5e0730"
   },
   "outputs": [
    {
     "name": "stdout",
     "output_type": "stream",
     "text": [
      "Hello asli\n"
     ]
    }
   ],
   "source": [
    "hello2(\"asli\")"
   ]
  },
  {
   "cell_type": "code",
   "execution_count": 14,
   "metadata": {
    "colab": {
     "base_uri": "https://localhost:8080/"
    },
    "executionInfo": {
     "elapsed": 3,
     "status": "ok",
     "timestamp": 1624022158068,
     "user": {
      "displayName": "Mert Çobanov",
      "photoUrl": "",
      "userId": "01762005122749554747"
     },
     "user_tz": -180
    },
    "id": "6iONCcj3Q1Wb",
    "outputId": "d9b7b1d4-79bd-4d26-dcd3-0485254d119d"
   },
   "outputs": [
    {
     "name": "stdout",
     "output_type": "stream",
     "text": [
      "Hello ASLI\n"
     ]
    }
   ],
   "source": [
    "hello2(\"Asli\", capLetter= True)"
   ]
  },
  {
   "cell_type": "markdown",
   "metadata": {
    "id": "sw36UHJtFy1u"
   },
   "source": [
    "## 4.3 Scope\n",
    "\n",
    "Basitçe anlatmak gerekirse **\"Hangi değişkenlere erişimim var?\"** Anlamına gelir. Bu, yorumlayıcının değişkenlerin kapsamını bulmak için kodu okurken sorduğu türden bir sorudur. Python'da değişkenlerin işlev kapsamı vardır, bu da bir işlev içinde tanımlanan değişkenlere işlevin dışından erişilemeyeceği anlamına gelir."
   ]
  },
  {
   "cell_type": "code",
   "execution_count": null,
   "metadata": {
    "id": "ZslCONDuFy1u",
    "scrolled": true
   },
   "outputs": [],
   "source": [
    "num = 1\n",
    "\n",
    "def confusing_function():\n",
    "    \n",
    "    num = 10\n",
    "    return num"
   ]
  },
  {
   "cell_type": "code",
   "execution_count": null,
   "metadata": {
    "id": "x-QTA3lbFy1v",
    "outputId": "582fac13-906b-4356-d7a2-9c8a22d76b2f"
   },
   "outputs": [
    {
     "name": "stdout",
     "output_type": "stream",
     "text": [
      "1\n",
      "10\n"
     ]
    }
   ],
   "source": [
    "print(num) # 1 => Global Scope\n",
    "print(confusing_function()) # 10 => Local Scope"
   ]
  },
  {
   "cell_type": "markdown",
   "metadata": {
    "id": "CWf35HmwFy1v"
   },
   "source": [
    "**Python yorumlayıcısının izlediği kapsam kuralları şunlardır:**\n",
    "\n",
    "- Yerel ile başlayın. Değişken mevcut mu? Ardından değeri alın. Değilse devam edin\n",
    "- Değişken, ana işlevin yerel kapsamında tanımlanmış mı? Varsa değeri getir, yoksa devam et\n",
    "- Değişken genel kapsamda mevcut mu? Varsa değeri getir, yoksa devam et\n",
    "- Değişken yerleşik bir işlev mi? Değeri getir, yoksa çıkışı"
   ]
  },
  {
   "cell_type": "markdown",
   "metadata": {
    "id": "hqiueftBQ9Z_"
   },
   "source": [
    "### Lambda Fonksiyonlar"
   ]
  },
  {
   "cell_type": "code",
   "execution_count": 15,
   "metadata": {
    "colab": {
     "base_uri": "https://localhost:8080/"
    },
    "executionInfo": {
     "elapsed": 501,
     "status": "ok",
     "timestamp": 1624022189821,
     "user": {
      "displayName": "Mert Çobanov",
      "photoUrl": "",
      "userId": "01762005122749554747"
     },
     "user_tz": -180
    },
    "id": "6TkphRWBQ-8M",
    "outputId": "52111f9f-951f-4a6d-913f-5473f29ded9b"
   },
   "outputs": [
    {
     "data": {
      "text/plain": [
       "3"
      ]
     },
     "execution_count": 15,
     "metadata": {
      "tags": []
     },
     "output_type": "execute_result"
    }
   ],
   "source": [
    "#lambda function\n",
    "(lambda x: x + 1)(2)"
   ]
  },
  {
   "cell_type": "code",
   "execution_count": 16,
   "metadata": {
    "colab": {
     "base_uri": "https://localhost:8080/",
     "height": 35
    },
    "executionInfo": {
     "elapsed": 338,
     "status": "ok",
     "timestamp": 1624022195890,
     "user": {
      "displayName": "Mert Çobanov",
      "photoUrl": "",
      "userId": "01762005122749554747"
     },
     "user_tz": -180
    },
    "id": "L2x_LKm5RAMy",
    "outputId": "a5f8cf71-df93-4b8b-cda1-9bb2cc5fddaa"
   },
   "outputs": [
    {
     "data": {
      "application/vnd.google.colaboratory.intrinsic+json": {
       "type": "string"
      },
      "text/plain": [
       "'Full name: Guido Van Rossum'"
      ]
     },
     "execution_count": 16,
     "metadata": {
      "tags": []
     },
     "output_type": "execute_result"
    }
   ],
   "source": [
    "full_name = lambda first, last: f'Full name: {first.title()} {last.title()}'\n",
    "full_name('guido', 'van rossum')"
   ]
  },
  {
   "cell_type": "markdown",
   "metadata": {
    "id": "Hgq6Gt61Y-b4"
   },
   "source": [
    "## 4.4 Moduller"
   ]
  },
  {
   "cell_type": "code",
   "execution_count": 17,
   "metadata": {
    "executionInfo": {
     "elapsed": 273,
     "status": "ok",
     "timestamp": 1624024322755,
     "user": {
      "displayName": "Mert Çobanov",
      "photoUrl": "",
      "userId": "01762005122749554747"
     },
     "user_tz": -180
    },
    "id": "ZwhwBEdLY_HR"
   },
   "outputs": [],
   "source": [
    "words = [\"artificial\",\"intelligence\",\"machine\",\"learning\",\"python\",\"programming\"]\n",
    "\n",
    "\n",
    "#from random import *\n",
    "import random as rnd\n",
    "\n",
    "def randomWord(words):\n",
    "    index = rnd.randint(0, len(words)-1)\n",
    "    return words[index]\n",
    "  "
   ]
  },
  {
   "cell_type": "code",
   "execution_count": null,
   "metadata": {
    "id": "rg4WG8obZJAE"
   },
   "outputs": [],
   "source": [
    "len(words)"
   ]
  },
  {
   "cell_type": "code",
   "execution_count": null,
   "metadata": {
    "id": "TSYLKfr3ZMEP"
   },
   "outputs": [],
   "source": [
    "word = randomWord(words)\n",
    "print(word)"
   ]
  },
  {
   "cell_type": "markdown",
   "metadata": {
    "id": "3uarilP0ZOdQ"
   },
   "source": [
    "## 4.5 Metodlar"
   ]
  },
  {
   "cell_type": "markdown",
   "metadata": {
    "id": "4JzGqpMwZT6n"
   },
   "source": [
    "## Metodlar\n",
    "\n",
    "Fonksiyonlar isimleri ile çağrılır, parametre içine alınabilir ve isteğe bağlı olarak elde edilen değer fonksiyonun dışında kullanılabilir.\n",
    "Yöntemler ayrıca adlarıyla da adlandırılırlar, birçok yönden işlevlere benzerler, ancak çağrı, bir String veya liste gibi bir nesne aracılığıyla gerçekleştirilir.\n",
    "\n",
    "object.methodName(parameter)"
   ]
  },
  {
   "cell_type": "code",
   "execution_count": null,
   "metadata": {
    "id": "sUnXe_GVZeBx"
   },
   "outputs": [],
   "source": [
    "s = input(\"Please enter a name: \")\n",
    "\n",
    "print(s.upper())"
   ]
  },
  {
   "cell_type": "markdown",
   "metadata": {
    "id": "jQJEl4kcZn1n"
   },
   "source": [
    "# Exceptions \n",
    "\n",
    "* Programmer Errors \n",
    "* Program Bugs \n",
    "* Exceptions"
   ]
  },
  {
   "cell_type": "code",
   "execution_count": null,
   "metadata": {
    "id": "5d2l2YVgZoD4"
   },
   "outputs": [],
   "source": [
    "# error example,SyntaxError.\n",
    "\n",
    "print \"Hello World!\"   "
   ]
  },
  {
   "cell_type": "code",
   "execution_count": null,
   "metadata": {
    "id": "qnXbYAmjZreT"
   },
   "outputs": [],
   "source": [
    "#bug example.\n",
    "\n",
    "num1 = input(\"Enter the first integer: \")\n",
    "num2 = input(\"Enter the second integer: \")\n",
    "\n",
    "print(num1, \"+\", num2, \"=\", num1 + num2)\n"
   ]
  },
  {
   "cell_type": "code",
   "execution_count": null,
   "metadata": {
    "id": "L2m33VggZtWn"
   },
   "outputs": [],
   "source": [
    "# ZeroDivisionError.\n",
    "\n",
    "\n",
    "num3 = int(input(\"First integer: \"))\n",
    "num4 = int(input(\"Second integer: \"))\n",
    "\n",
    "print(num3, \"/\",num4, \"=\", num3/num4)"
   ]
  },
  {
   "cell_type": "markdown",
   "metadata": {
    "id": "Stcay0lvZtQL"
   },
   "source": [
    "## Exception Handling\n",
    "\n",
    "\n",
    "try:\n",
    "\n",
    "\n",
    "> the situations where we can get exceptions\n",
    "\n",
    "except \"Exception Name\":\n",
    "\n",
    "\n",
    "> the operations in case of exceptions\n",
    "\n",
    "\n",
    "\n"
   ]
  },
  {
   "cell_type": "code",
   "execution_count": null,
   "metadata": {
    "id": "iWaawuLrZx74"
   },
   "outputs": [],
   "source": [
    "x = \"Alan Turing\"\n",
    "\n",
    "int(x)"
   ]
  },
  {
   "cell_type": "code",
   "execution_count": null,
   "metadata": {
    "id": "MNQaIOpvZ2YM"
   },
   "outputs": [],
   "source": [
    "try:\n",
    "    int(x)\n",
    "\n",
    "except ValueError:\n",
    "    print(\"Please enter an integer value!!!\")"
   ]
  },
  {
   "cell_type": "code",
   "execution_count": null,
   "metadata": {
    "id": "MM66D0IHZ2PJ"
   },
   "outputs": [],
   "source": [
    "num3 = input(\"First integer: \")\n",
    "num4 = input(\"Second integer: \")\n",
    "\n",
    "try:\n",
    "    num3_int = int(num3)\n",
    "    num4_int = int(num4)\n",
    "\n",
    "    print(num3_int, \"/\",num4_int, \"=\", num3_int/num4_int)\n",
    "\n",
    "except ValueError:\n",
    "    print(\"Please enter an integer value!!!\")"
   ]
  },
  {
   "cell_type": "code",
   "execution_count": null,
   "metadata": {
    "id": "f4BaeeS1Z6r1"
   },
   "outputs": [],
   "source": [
    "#exception handling in loop structure\n",
    "\n",
    "\n",
    "while True:\n",
    "    num1 = input(\"First number: (Press q for quit the program): \")\n",
    "\n",
    "    if num1 == \"q\":\n",
    "        break\n",
    "\n",
    "    num2 = input(\"Second number: \")\n",
    "\n",
    "    try:\n",
    "        num1_int = int(num1)\n",
    "        num2_int = int(num2)\n",
    "        print(num1_int, \"/\", num2_int, \"=\", num1_int / num2_int)\n",
    "    except (ValueError, ZeroDivisionError):\n",
    "        print(\"Error!\")\n",
    "        print(\"Please try again!\")"
   ]
  }
 ],
 "metadata": {
  "colab": {
   "collapsed_sections": [],
   "name": "Introduction to Python - Day 3",
   "provenance": []
  },
  "kernelspec": {
   "display_name": "Python 3",
   "language": "python",
   "name": "python3"
  },
  "language_info": {
   "codemirror_mode": {
    "name": "ipython",
    "version": 3
   },
   "file_extension": ".py",
   "mimetype": "text/x-python",
   "name": "python",
   "nbconvert_exporter": "python",
   "pygments_lexer": "ipython3",
   "version": "3.9.5"
  }
 },
 "nbformat": 4,
 "nbformat_minor": 4
}
